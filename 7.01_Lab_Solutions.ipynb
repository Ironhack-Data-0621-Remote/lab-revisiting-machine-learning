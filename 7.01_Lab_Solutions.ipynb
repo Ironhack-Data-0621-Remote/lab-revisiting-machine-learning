{
 "cells": [
  {
   "cell_type": "markdown",
   "id": "bf32ae3b",
   "metadata": {},
   "source": [
    "# Lab | Revisiting Machine Learning Case Study"
   ]
  },
  {
   "cell_type": "markdown",
   "id": "73df37d0",
   "metadata": {},
   "source": [
    "In this lab, you will use learningSet.csv file which you already have cloned in today's activities."
   ]
  },
  {
   "cell_type": "markdown",
   "id": "5bbb5252",
   "metadata": {},
   "source": [
    "### 1. Check for null values in all the columns"
   ]
  },
  {
   "cell_type": "code",
   "execution_count": null,
   "id": "dbe69e8b",
   "metadata": {},
   "outputs": [],
   "source": []
  },
  {
   "cell_type": "markdown",
   "id": "6febccdc",
   "metadata": {},
   "source": [
    "### 2. Exclude the following variables by looking at the definitions. Create a new empty list called drop_list. We will append this list and then drop all the columns in this list later:\n",
    "\n",
    "- `OSOURCE` - symbol definitions not provided, too many categories\n",
    "- `ZIP CODE` - we are including state already\n"
   ]
  },
  {
   "cell_type": "code",
   "execution_count": null,
   "id": "3a07b75a",
   "metadata": {},
   "outputs": [],
   "source": []
  },
  {
   "cell_type": "markdown",
   "id": "6a2470e4",
   "metadata": {},
   "source": [
    "### 3. Identify columns that over 85% missing values"
   ]
  },
  {
   "cell_type": "code",
   "execution_count": null,
   "id": "2b6f01b6",
   "metadata": {},
   "outputs": [],
   "source": []
  },
  {
   "cell_type": "markdown",
   "id": "70865946",
   "metadata": {},
   "source": [
    "### 4. Remove those columns from the dataframe"
   ]
  },
  {
   "cell_type": "code",
   "execution_count": null,
   "id": "ca6c4d91",
   "metadata": {},
   "outputs": [],
   "source": []
  },
  {
   "cell_type": "markdown",
   "id": "7bbcf161",
   "metadata": {},
   "source": [
    "### 5. Reduce the number of categories in the column GENDER. The column should only have either \"M\" for males, \"F\" for females, and \"other\" for all the rest\n",
    "\n",
    "Note that there are a few null values in the column. We will first replace those null values using the code below:\n",
    "\n",
    "```python\n",
    "print(categorical['GENDER'].value_counts())\n",
    "categorical['GENDER'] = categorical['GENDER'].fillna('F')\n",
    "```"
   ]
  },
  {
   "cell_type": "code",
   "execution_count": null,
   "id": "b583feaa",
   "metadata": {},
   "outputs": [],
   "source": []
  }
 ],
 "metadata": {
  "kernelspec": {
   "display_name": "Python 3",
   "language": "python",
   "name": "python3"
  },
  "language_info": {
   "codemirror_mode": {
    "name": "ipython",
    "version": 3
   },
   "file_extension": ".py",
   "mimetype": "text/x-python",
   "name": "python",
   "nbconvert_exporter": "python",
   "pygments_lexer": "ipython3",
   "version": "3.8.5"
  }
 },
 "nbformat": 4,
 "nbformat_minor": 5
}
