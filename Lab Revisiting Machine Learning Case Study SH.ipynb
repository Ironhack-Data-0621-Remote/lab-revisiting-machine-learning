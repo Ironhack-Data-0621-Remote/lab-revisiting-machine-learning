{
 "cells": [
  {
   "cell_type": "markdown",
   "id": "bf32ae3b",
   "metadata": {},
   "source": [
    "# Lab | Revisiting Machine Learning Case Study"
   ]
  },
  {
   "cell_type": "code",
   "execution_count": 1,
   "id": "b6f85992",
   "metadata": {},
   "outputs": [],
   "source": [
    "import pandas as pd\n",
    "import numpy as np\n",
    "import datetime\n",
    "import warnings\n",
    "import matplotlib.pyplot as plt\n",
    "import seaborn as sns\n",
    "import scipy.stats as stats\n",
    "\n",
    "warnings.filterwarnings('ignore')"
   ]
  },
  {
   "cell_type": "code",
   "execution_count": 3,
   "id": "f9145fea",
   "metadata": {},
   "outputs": [],
   "source": [
    "data = pd.read_csv('learningSet.csv')"
   ]
  },
  {
   "cell_type": "code",
   "execution_count": 4,
   "id": "591ce909",
   "metadata": {},
   "outputs": [],
   "source": [
    "data.columns = [column.lower().replace(' ', '_') for column in data.columns]"
   ]
  },
  {
   "cell_type": "code",
   "execution_count": 19,
   "id": "ce7bfb79",
   "metadata": {},
   "outputs": [],
   "source": [
    "categorical = data.select_dtypes(exclude=[np.number])"
   ]
  },
  {
   "cell_type": "code",
   "execution_count": 20,
   "id": "651505df",
   "metadata": {},
   "outputs": [],
   "source": [
    "numeric = data.select_dtypes(include=[np.number])"
   ]
  },
  {
   "cell_type": "markdown",
   "id": "73df37d0",
   "metadata": {},
   "source": [
    "In this lab, you will use learningSet.csv file which you already have cloned in today's activities."
   ]
  },
  {
   "cell_type": "markdown",
   "id": "5bbb5252",
   "metadata": {},
   "source": [
    "### 1. Check for null values in all the columns"
   ]
  },
  {
   "cell_type": "code",
   "execution_count": 5,
   "id": "dbe69e8b",
   "metadata": {},
   "outputs": [
    {
     "data": {
      "text/plain": [
       "odatedw       0\n",
       "osource       0\n",
       "tcode         0\n",
       "state         0\n",
       "zip           0\n",
       "           ... \n",
       "mdmaud_r      0\n",
       "mdmaud_f      0\n",
       "mdmaud_a      0\n",
       "cluster2    132\n",
       "geocode2    132\n",
       "Length: 481, dtype: int64"
      ]
     },
     "execution_count": 5,
     "metadata": {},
     "output_type": "execute_result"
    }
   ],
   "source": [
    "data.isna().sum()"
   ]
  },
  {
   "cell_type": "markdown",
   "id": "6febccdc",
   "metadata": {},
   "source": [
    "### 2. Exclude the following variables by looking at the definitions. Create a new empty list called drop_list. We will append this list and then drop all the columns in this list later:\n",
    "\n",
    "- `OSOURCE` - symbol definitions not provided, too many categories\n",
    "- `ZIP CODE` - we are including state already\n"
   ]
  },
  {
   "cell_type": "code",
   "execution_count": 6,
   "id": "da5b5df7",
   "metadata": {},
   "outputs": [],
   "source": [
    "drop_list = []"
   ]
  },
  {
   "cell_type": "code",
   "execution_count": 7,
   "id": "3a07b75a",
   "metadata": {},
   "outputs": [],
   "source": [
    "drop_list = ['osource', 'zip_code']"
   ]
  },
  {
   "cell_type": "markdown",
   "id": "6a2470e4",
   "metadata": {},
   "source": [
    "### 3. Identify columns that over 85% missing values"
   ]
  },
  {
   "cell_type": "code",
   "execution_count": 9,
   "id": "288771d8",
   "metadata": {},
   "outputs": [],
   "source": [
    "nulls_percent_data = (data.isna().sum().sort_values(ascending=False)*100/len(data)).reset_index"
   ]
  },
  {
   "cell_type": "code",
   "execution_count": 11,
   "id": "bb7f093a",
   "metadata": {},
   "outputs": [
    {
     "data": {
      "text/plain": [
       "rdate_5     99.990567\n",
       "ramnt_5     99.990567\n",
       "rdate_3     99.746363\n",
       "ramnt_3     99.746363\n",
       "rdate_4     99.705488\n",
       "ramnt_4     99.705488\n",
       "ramnt_6     99.186685\n",
       "rdate_6     99.186685\n",
       "ramnt_15    92.388798\n",
       "rdate_15    92.388798\n",
       "rdate_23    91.763091\n",
       "ramnt_23    91.763091\n",
       "rdate_20    91.732696\n",
       "ramnt_20    91.732696\n",
       "ramnt_7     90.677273\n",
       "rdate_7     90.677273\n",
       "ramnt_17    90.146942\n",
       "rdate_17    90.146942\n",
       "rdate_21    90.029556\n",
       "ramnt_21    90.029556\n",
       "ramnt_10    89.035970\n",
       "rdate_10    89.035970\n",
       "rdate_13    87.160944\n",
       "ramnt_13    87.160944\n",
       "numchld     87.018404\n",
       "rdate_11    84.551209\n",
       "ramnt_11    84.551209\n",
       "rdate_19    83.359535\n",
       "ramnt_19    83.359535\n",
       "ramnt_9     82.461326\n",
       "dtype: float64"
      ]
     },
     "execution_count": 11,
     "metadata": {},
     "output_type": "execute_result"
    }
   ],
   "source": [
    "(data.isna().sum().sort_values(ascending=False)*100/len(data))[:30]"
   ]
  },
  {
   "cell_type": "code",
   "execution_count": 12,
   "id": "2b6f01b6",
   "metadata": {},
   "outputs": [
    {
     "data": {
      "text/html": [
       "<div>\n",
       "<style scoped>\n",
       "    .dataframe tbody tr th:only-of-type {\n",
       "        vertical-align: middle;\n",
       "    }\n",
       "\n",
       "    .dataframe tbody tr th {\n",
       "        vertical-align: top;\n",
       "    }\n",
       "\n",
       "    .dataframe thead th {\n",
       "        text-align: right;\n",
       "    }\n",
       "</style>\n",
       "<table border=\"1\" class=\"dataframe\">\n",
       "  <thead>\n",
       "    <tr style=\"text-align: right;\">\n",
       "      <th></th>\n",
       "      <th>percentage</th>\n",
       "    </tr>\n",
       "  </thead>\n",
       "  <tbody>\n",
       "    <tr>\n",
       "      <th>rdate_5</th>\n",
       "      <td>99.990567</td>\n",
       "    </tr>\n",
       "    <tr>\n",
       "      <th>ramnt_5</th>\n",
       "      <td>99.990567</td>\n",
       "    </tr>\n",
       "    <tr>\n",
       "      <th>rdate_3</th>\n",
       "      <td>99.746363</td>\n",
       "    </tr>\n",
       "    <tr>\n",
       "      <th>ramnt_3</th>\n",
       "      <td>99.746363</td>\n",
       "    </tr>\n",
       "    <tr>\n",
       "      <th>rdate_4</th>\n",
       "      <td>99.705488</td>\n",
       "    </tr>\n",
       "    <tr>\n",
       "      <th>...</th>\n",
       "      <td>...</td>\n",
       "    </tr>\n",
       "    <tr>\n",
       "      <th>adate_16</th>\n",
       "      <td>21.343227</td>\n",
       "    </tr>\n",
       "    <tr>\n",
       "      <th>adate_14</th>\n",
       "      <td>19.774242</td>\n",
       "    </tr>\n",
       "    <tr>\n",
       "      <th>adate_9</th>\n",
       "      <td>11.785729</td>\n",
       "    </tr>\n",
       "    <tr>\n",
       "      <th>adate_11</th>\n",
       "      <td>10.923154</td>\n",
       "    </tr>\n",
       "    <tr>\n",
       "      <th>nextdate</th>\n",
       "      <td>10.452564</td>\n",
       "    </tr>\n",
       "  </tbody>\n",
       "</table>\n",
       "<p>80 rows × 1 columns</p>\n",
       "</div>"
      ],
      "text/plain": [
       "          percentage\n",
       "rdate_5    99.990567\n",
       "ramnt_5    99.990567\n",
       "rdate_3    99.746363\n",
       "ramnt_3    99.746363\n",
       "rdate_4    99.705488\n",
       "...              ...\n",
       "adate_16   21.343227\n",
       "adate_14   19.774242\n",
       "adate_9    11.785729\n",
       "adate_11   10.923154\n",
       "nextdate   10.452564\n",
       "\n",
       "[80 rows x 1 columns]"
      ]
     },
     "execution_count": 12,
     "metadata": {},
     "output_type": "execute_result"
    }
   ],
   "source": [
    "nulls = pd.DataFrame(data.isna().sum()*100/len(data), columns=['percentage'])\n",
    "nulls.sort_values('percentage', ascending = False).head(80)"
   ]
  },
  {
   "cell_type": "markdown",
   "id": "70865946",
   "metadata": {},
   "source": [
    "### 4. Remove those columns from the dataframe"
   ]
  },
  {
   "cell_type": "code",
   "execution_count": 15,
   "id": "79816af4",
   "metadata": {},
   "outputs": [
    {
     "data": {
      "text/plain": [
       "['odatedw',\n",
       " 'osource',\n",
       " 'tcode',\n",
       " 'state',\n",
       " 'zip',\n",
       " 'mailcode',\n",
       " 'pvastate',\n",
       " 'dob',\n",
       " 'noexch',\n",
       " 'recinhse',\n",
       " 'recp3',\n",
       " 'recpgvg',\n",
       " 'recsweep',\n",
       " 'mdmaud',\n",
       " 'domain',\n",
       " 'cluster',\n",
       " 'ageflag',\n",
       " 'homeownr',\n",
       " 'child03',\n",
       " 'child07',\n",
       " 'child12',\n",
       " 'child18',\n",
       " 'gender',\n",
       " 'hit',\n",
       " 'datasrce',\n",
       " 'malemili',\n",
       " 'malevet',\n",
       " 'vietvets',\n",
       " 'wwiivets',\n",
       " 'localgov',\n",
       " 'stategov',\n",
       " 'fedgov',\n",
       " 'solp3',\n",
       " 'solih',\n",
       " 'major',\n",
       " 'geocode',\n",
       " 'collect1',\n",
       " 'veterans',\n",
       " 'bible',\n",
       " 'catlg',\n",
       " 'homee',\n",
       " 'pets',\n",
       " 'cdplay',\n",
       " 'stereo',\n",
       " 'pcowners',\n",
       " 'photo',\n",
       " 'crafts',\n",
       " 'fisher',\n",
       " 'gardenin',\n",
       " 'boats',\n",
       " 'walker',\n",
       " 'kidstuff',\n",
       " 'cards',\n",
       " 'plates',\n",
       " 'lifesrc',\n",
       " 'pepstrfl',\n",
       " 'pop901',\n",
       " 'pop902',\n",
       " 'pop903',\n",
       " 'pop90c1',\n",
       " 'pop90c2',\n",
       " 'pop90c3',\n",
       " 'pop90c4',\n",
       " 'pop90c5',\n",
       " 'eth1',\n",
       " 'eth2',\n",
       " 'eth3',\n",
       " 'eth4',\n",
       " 'eth5',\n",
       " 'eth6',\n",
       " 'eth7',\n",
       " 'eth8',\n",
       " 'eth9',\n",
       " 'eth10',\n",
       " 'eth11',\n",
       " 'eth12',\n",
       " 'eth13',\n",
       " 'eth14',\n",
       " 'eth15',\n",
       " 'eth16',\n",
       " 'age901',\n",
       " 'age902',\n",
       " 'age903',\n",
       " 'age904',\n",
       " 'age905',\n",
       " 'age906',\n",
       " 'age907',\n",
       " 'chil1',\n",
       " 'chil2',\n",
       " 'chil3',\n",
       " 'agec1',\n",
       " 'agec2',\n",
       " 'agec3',\n",
       " 'agec4',\n",
       " 'agec5',\n",
       " 'agec6',\n",
       " 'agec7',\n",
       " 'chilc1',\n",
       " 'chilc2',\n",
       " 'chilc3',\n",
       " 'chilc4',\n",
       " 'chilc5',\n",
       " 'hhage1',\n",
       " 'hhage2',\n",
       " 'hhage3',\n",
       " 'hhn1',\n",
       " 'hhn2',\n",
       " 'hhn3',\n",
       " 'hhn4',\n",
       " 'hhn5',\n",
       " 'hhn6',\n",
       " 'marr1',\n",
       " 'marr2',\n",
       " 'marr3',\n",
       " 'marr4',\n",
       " 'hhp1',\n",
       " 'hhp2',\n",
       " 'dw1',\n",
       " 'dw2',\n",
       " 'dw3',\n",
       " 'dw4',\n",
       " 'dw5',\n",
       " 'dw6',\n",
       " 'dw7',\n",
       " 'dw8',\n",
       " 'dw9',\n",
       " 'hv1',\n",
       " 'hv2',\n",
       " 'hv3',\n",
       " 'hv4',\n",
       " 'hu1',\n",
       " 'hu2',\n",
       " 'hu3',\n",
       " 'hu4',\n",
       " 'hu5',\n",
       " 'hhd1',\n",
       " 'hhd2',\n",
       " 'hhd3',\n",
       " 'hhd4',\n",
       " 'hhd5',\n",
       " 'hhd6',\n",
       " 'hhd7',\n",
       " 'hhd8',\n",
       " 'hhd9',\n",
       " 'hhd10',\n",
       " 'hhd11',\n",
       " 'hhd12',\n",
       " 'ethc1',\n",
       " 'ethc2',\n",
       " 'ethc3',\n",
       " 'ethc4',\n",
       " 'ethc5',\n",
       " 'ethc6',\n",
       " 'hvp1',\n",
       " 'hvp2',\n",
       " 'hvp3',\n",
       " 'hvp4',\n",
       " 'hvp5',\n",
       " 'hvp6',\n",
       " 'hur1',\n",
       " 'hur2',\n",
       " 'rhp1',\n",
       " 'rhp2',\n",
       " 'rhp3',\n",
       " 'rhp4',\n",
       " 'hupa1',\n",
       " 'hupa2',\n",
       " 'hupa3',\n",
       " 'hupa4',\n",
       " 'hupa5',\n",
       " 'hupa6',\n",
       " 'hupa7',\n",
       " 'rp1',\n",
       " 'rp2',\n",
       " 'rp3',\n",
       " 'rp4',\n",
       " 'msa',\n",
       " 'adi',\n",
       " 'dma',\n",
       " 'ic1',\n",
       " 'ic2',\n",
       " 'ic3',\n",
       " 'ic4',\n",
       " 'ic5',\n",
       " 'ic6',\n",
       " 'ic7',\n",
       " 'ic8',\n",
       " 'ic9',\n",
       " 'ic10',\n",
       " 'ic11',\n",
       " 'ic12',\n",
       " 'ic13',\n",
       " 'ic14',\n",
       " 'ic15',\n",
       " 'ic16',\n",
       " 'ic17',\n",
       " 'ic18',\n",
       " 'ic19',\n",
       " 'ic20',\n",
       " 'ic21',\n",
       " 'ic22',\n",
       " 'ic23',\n",
       " 'hhas1',\n",
       " 'hhas2',\n",
       " 'hhas3',\n",
       " 'hhas4',\n",
       " 'mc1',\n",
       " 'mc2',\n",
       " 'mc3',\n",
       " 'tpe1',\n",
       " 'tpe2',\n",
       " 'tpe3',\n",
       " 'tpe4',\n",
       " 'tpe5',\n",
       " 'tpe6',\n",
       " 'tpe7',\n",
       " 'tpe8',\n",
       " 'tpe9',\n",
       " 'pec1',\n",
       " 'pec2',\n",
       " 'tpe10',\n",
       " 'tpe11',\n",
       " 'tpe12',\n",
       " 'tpe13',\n",
       " 'lfc1',\n",
       " 'lfc2',\n",
       " 'lfc3',\n",
       " 'lfc4',\n",
       " 'lfc5',\n",
       " 'lfc6',\n",
       " 'lfc7',\n",
       " 'lfc8',\n",
       " 'lfc9',\n",
       " 'lfc10',\n",
       " 'occ1',\n",
       " 'occ2',\n",
       " 'occ3',\n",
       " 'occ4',\n",
       " 'occ5',\n",
       " 'occ6',\n",
       " 'occ7',\n",
       " 'occ8',\n",
       " 'occ9',\n",
       " 'occ10',\n",
       " 'occ11',\n",
       " 'occ12',\n",
       " 'occ13',\n",
       " 'eic1',\n",
       " 'eic2',\n",
       " 'eic3',\n",
       " 'eic4',\n",
       " 'eic5',\n",
       " 'eic6',\n",
       " 'eic7',\n",
       " 'eic8',\n",
       " 'eic9',\n",
       " 'eic10',\n",
       " 'eic11',\n",
       " 'eic12',\n",
       " 'eic13',\n",
       " 'eic14',\n",
       " 'eic15',\n",
       " 'eic16',\n",
       " 'oedc1',\n",
       " 'oedc2',\n",
       " 'oedc3',\n",
       " 'oedc4',\n",
       " 'oedc5',\n",
       " 'oedc6',\n",
       " 'oedc7',\n",
       " 'ec1',\n",
       " 'ec2',\n",
       " 'ec3',\n",
       " 'ec4',\n",
       " 'ec5',\n",
       " 'ec6',\n",
       " 'ec7',\n",
       " 'ec8',\n",
       " 'sec1',\n",
       " 'sec2',\n",
       " 'sec3',\n",
       " 'sec4',\n",
       " 'sec5',\n",
       " 'afc1',\n",
       " 'afc2',\n",
       " 'afc3',\n",
       " 'afc4',\n",
       " 'afc5',\n",
       " 'afc6',\n",
       " 'vc1',\n",
       " 'vc2',\n",
       " 'vc3',\n",
       " 'vc4',\n",
       " 'anc1',\n",
       " 'anc2',\n",
       " 'anc3',\n",
       " 'anc4',\n",
       " 'anc5',\n",
       " 'anc6',\n",
       " 'anc7',\n",
       " 'anc8',\n",
       " 'anc9',\n",
       " 'anc10',\n",
       " 'anc11',\n",
       " 'anc12',\n",
       " 'anc13',\n",
       " 'anc14',\n",
       " 'anc15',\n",
       " 'pobc1',\n",
       " 'pobc2',\n",
       " 'lsc1',\n",
       " 'lsc2',\n",
       " 'lsc3',\n",
       " 'lsc4',\n",
       " 'voc1',\n",
       " 'voc2',\n",
       " 'voc3',\n",
       " 'hc1',\n",
       " 'hc2',\n",
       " 'hc3',\n",
       " 'hc4',\n",
       " 'hc5',\n",
       " 'hc6',\n",
       " 'hc7',\n",
       " 'hc8',\n",
       " 'hc9',\n",
       " 'hc10',\n",
       " 'hc11',\n",
       " 'hc12',\n",
       " 'hc13',\n",
       " 'hc14',\n",
       " 'hc15',\n",
       " 'hc16',\n",
       " 'hc17',\n",
       " 'hc18',\n",
       " 'hc19',\n",
       " 'hc20',\n",
       " 'hc21',\n",
       " 'mhuc1',\n",
       " 'mhuc2',\n",
       " 'ac1',\n",
       " 'ac2',\n",
       " 'adate_2',\n",
       " 'adate_3',\n",
       " 'adate_4',\n",
       " 'adate_6',\n",
       " 'adate_7',\n",
       " 'adate_8',\n",
       " 'adate_9',\n",
       " 'adate_11',\n",
       " 'adate_12',\n",
       " 'rfa_2',\n",
       " 'rfa_3',\n",
       " 'rfa_4',\n",
       " 'rfa_5',\n",
       " 'rfa_6',\n",
       " 'rfa_7',\n",
       " 'rfa_8',\n",
       " 'rfa_9',\n",
       " 'rfa_10',\n",
       " 'rfa_11',\n",
       " 'rfa_12',\n",
       " 'rfa_13',\n",
       " 'rfa_14',\n",
       " 'rfa_15',\n",
       " 'rfa_16',\n",
       " 'rfa_17',\n",
       " 'rfa_18',\n",
       " 'rfa_19',\n",
       " 'rfa_20',\n",
       " 'rfa_21',\n",
       " 'rfa_22',\n",
       " 'rfa_23',\n",
       " 'rfa_24',\n",
       " 'cardprom',\n",
       " 'maxadate',\n",
       " 'numprom',\n",
       " 'cardpm12',\n",
       " 'numprm12',\n",
       " 'ramntall',\n",
       " 'ngiftall',\n",
       " 'cardgift',\n",
       " 'minramnt',\n",
       " 'minrdate',\n",
       " 'maxramnt',\n",
       " 'maxrdate',\n",
       " 'lastgift',\n",
       " 'lastdate',\n",
       " 'fistdate',\n",
       " 'nextdate',\n",
       " 'timelag',\n",
       " 'avggift',\n",
       " 'controln',\n",
       " 'target_b',\n",
       " 'target_d',\n",
       " 'hphone_d',\n",
       " 'rfa_2r',\n",
       " 'rfa_2f',\n",
       " 'rfa_2a',\n",
       " 'mdmaud_r',\n",
       " 'mdmaud_f',\n",
       " 'mdmaud_a',\n",
       " 'cluster2',\n",
       " 'geocode2']"
      ]
     },
     "execution_count": 15,
     "metadata": {},
     "output_type": "execute_result"
    }
   ],
   "source": [
    "cols_to_keep = list(nulls[nulls['percentage'] < 15].index)\n",
    "cols_to_keep"
   ]
  },
  {
   "cell_type": "code",
   "execution_count": null,
   "id": "f9dfbf5f",
   "metadata": {},
   "outputs": [],
   "source": []
  },
  {
   "cell_type": "code",
   "execution_count": 16,
   "id": "ca6c4d91",
   "metadata": {},
   "outputs": [
    {
     "data": {
      "text/plain": [
       "MBC    4539\n",
       "SYN    3563\n",
       "AML    3430\n",
       "BHG    3324\n",
       "IMP    2986\n",
       "       ... \n",
       "OPR       1\n",
       "AHA       1\n",
       "BEL       1\n",
       "MMK       1\n",
       "INC       1\n",
       "Name: osource, Length: 896, dtype: int64"
      ]
     },
     "metadata": {},
     "output_type": "display_data"
    },
    {
     "data": {
      "text/plain": [
       "85351     61\n",
       "92653     59\n",
       "85710     54\n",
       "95608     50\n",
       "92037     45\n",
       "          ..\n",
       "59732      1\n",
       "73533-     1\n",
       "91367-     1\n",
       "64118-     1\n",
       "92691-     1\n",
       "Name: zip, Length: 19938, dtype: int64"
      ]
     },
     "metadata": {},
     "output_type": "display_data"
    },
    {
     "data": {
      "text/plain": [
       "0       23661\n",
       "4801     1479\n",
       "5001     1326\n",
       "3001     1288\n",
       "2801     1225\n",
       "        ...  \n",
       "7504        1\n",
       "108         1\n",
       "7312        1\n",
       "7           1\n",
       "7404        1\n",
       "Name: dob, Length: 947, dtype: int64"
      ]
     },
     "metadata": {},
     "output_type": "display_data"
    },
    {
     "data": {
      "text/plain": [
       "50.0    1930\n",
       "76.0    1885\n",
       "72.0    1813\n",
       "68.0    1809\n",
       "74.0    1801\n",
       "        ... \n",
       "15.0       1\n",
       "6.0        1\n",
       "10.0       1\n",
       "9.0        1\n",
       "8.0        1\n",
       "Name: age, Length: 96, dtype: int64"
      ]
     },
     "metadata": {},
     "output_type": "display_data"
    },
    {
     "data": {
      "text/plain": [
       "0     73998\n",
       "1      9292\n",
       "2      4324\n",
       "3      2063\n",
       "4      1185\n",
       "      ...  \n",
       "91        1\n",
       "57        1\n",
       "58        1\n",
       "66        1\n",
       "99        1\n",
       "Name: malemili, Length: 95, dtype: int64"
      ]
     },
     "metadata": {},
     "output_type": "display_data"
    },
    {
     "data": {
      "text/plain": [
       "31    4305\n",
       "30    4295\n",
       "32    4138\n",
       "29    4119\n",
       "33    4075\n",
       "      ... \n",
       "81       3\n",
       "83       2\n",
       "80       1\n",
       "90       1\n",
       "98       1\n",
       "Name: malevet, Length: 89, dtype: int64"
      ]
     },
     "metadata": {},
     "output_type": "display_data"
    },
    {
     "data": {
      "text/plain": [
       "0     5502\n",
       "27    3075\n",
       "28    3046\n",
       "31    2956\n",
       "29    2908\n",
       "      ... \n",
       "90       5\n",
       "91       4\n",
       "88       3\n",
       "92       2\n",
       "93       2\n",
       "Name: vietvets, Length: 95, dtype: int64"
      ]
     },
     "metadata": {},
     "output_type": "display_data"
    },
    {
     "data": {
      "text/plain": [
       "0     5264\n",
       "32    2550\n",
       "33    2477\n",
       "28    2398\n",
       "35    2334\n",
       "      ... \n",
       "96      25\n",
       "92      13\n",
       "97       7\n",
       "95       7\n",
       "98       6\n",
       "Name: wwiivets, Length: 100, dtype: int64"
      ]
     },
     "metadata": {},
     "output_type": "display_data"
    },
    {
     "data": {
      "text/plain": [
       "0        799\n",
       "1086      78\n",
       "923       77\n",
       "1094      75\n",
       "834       73\n",
       "        ... \n",
       "4142       1\n",
       "6191       1\n",
       "12394      1\n",
       "49053      1\n",
       "7062       1\n",
       "Name: pop901, Length: 9906, dtype: int64"
      ]
     },
     "metadata": {},
     "output_type": "display_data"
    },
    {
     "data": {
      "text/plain": [
       "0        842\n",
       "296      225\n",
       "265      217\n",
       "261      217\n",
       "281      215\n",
       "        ... \n",
       "22237      1\n",
       "3431       1\n",
       "3495       1\n",
       "5604       1\n",
       "7469       1\n",
       "Name: pop902, Length: 4786, dtype: int64"
      ]
     },
     "metadata": {},
     "output_type": "display_data"
    },
    {
     "data": {
      "text/plain": [
       "0        817\n",
       "340      174\n",
       "485      164\n",
       "381      163\n",
       "380      163\n",
       "        ... \n",
       "5697       1\n",
       "5927       1\n",
       "12128      1\n",
       "18285      1\n",
       "4453       1\n",
       "Name: pop903, Length: 5698, dtype: int64"
      ]
     },
     "metadata": {},
     "output_type": "display_data"
    },
    {
     "data": {
      "text/plain": [
       "99    50548\n",
       "0     35415\n",
       "98      510\n",
       "97      453\n",
       "95      331\n",
       "      ...  \n",
       "44       33\n",
       "42       32\n",
       "37       32\n",
       "25       32\n",
       "39       30\n",
       "Name: pop90c1, Length: 100, dtype: int64"
      ]
     },
     "metadata": {},
     "output_type": "display_data"
    },
    {
     "data": {
      "text/plain": [
       "0     76382\n",
       "99     6029\n",
       "1       637\n",
       "98      404\n",
       "96      342\n",
       "      ...  \n",
       "18       65\n",
       "29       63\n",
       "27       62\n",
       "24       56\n",
       "20       53\n",
       "Name: pop90c2, Length: 100, dtype: int64"
      ]
     },
     "metadata": {},
     "output_type": "display_data"
    },
    {
     "data": {
      "text/plain": [
       "0     56461\n",
       "99    17284\n",
       "1      1073\n",
       "2       918\n",
       "3       792\n",
       "      ...  \n",
       "68      100\n",
       "75       99\n",
       "82       97\n",
       "73       94\n",
       "71       88\n",
       "Name: pop90c3, Length: 100, dtype: int64"
      ]
     },
     "metadata": {},
     "output_type": "display_data"
    },
    {
     "data": {
      "text/plain": [
       "99    15689\n",
       "98     8662\n",
       "97     7133\n",
       "96     6092\n",
       "95     4961\n",
       "      ...  \n",
       "14       71\n",
       "20       70\n",
       "19       69\n",
       "17       65\n",
       "18       62\n",
       "Name: eth1, Length: 100, dtype: int64"
      ]
     },
     "metadata": {},
     "output_type": "display_data"
    },
    {
     "data": {
      "text/plain": [
       "0     31240\n",
       "1     18193\n",
       "2      9336\n",
       "3      5785\n",
       "4      4068\n",
       "      ...  \n",
       "76       44\n",
       "83       42\n",
       "77       38\n",
       "85       37\n",
       "88       37\n",
       "Name: eth2, Length: 100, dtype: int64"
      ]
     },
     "metadata": {},
     "output_type": "display_data"
    },
    {
     "data": {
      "text/plain": [
       "0     37177\n",
       "1     23722\n",
       "2     10555\n",
       "3      5691\n",
       "4      3725\n",
       "      ...  \n",
       "85        3\n",
       "91        3\n",
       "99        2\n",
       "93        1\n",
       "95        1\n",
       "Name: eth4, Length: 96, dtype: int64"
      ]
     },
     "metadata": {},
     "output_type": "display_data"
    },
    {
     "data": {
      "text/plain": [
       "1     22602\n",
       "0     15803\n",
       "2     11884\n",
       "3      6999\n",
       "4      4690\n",
       "      ...  \n",
       "70       34\n",
       "82       32\n",
       "83       23\n",
       "97       22\n",
       "99       13\n",
       "Name: eth5, Length: 100, dtype: int64"
      ]
     },
     "metadata": {},
     "output_type": "display_data"
    },
    {
     "data": {
      "text/plain": [
       "0     34032\n",
       "1     20591\n",
       "2      8336\n",
       "3      5230\n",
       "4      3765\n",
       "      ...  \n",
       "94       13\n",
       "93       12\n",
       "95        8\n",
       "97        1\n",
       "96        1\n",
       "Name: eth13, Length: 98, dtype: int64"
      ]
     },
     "metadata": {},
     "output_type": "display_data"
    },
    {
     "data": {
      "text/plain": [
       "11    10457\n",
       "12    10058\n",
       "10     9991\n",
       "13     9025\n",
       "9      8247\n",
       "      ...  \n",
       "90        2\n",
       "94        2\n",
       "99        1\n",
       "68        1\n",
       "96        1\n",
       "Name: agec1, Length: 98, dtype: int64"
      ]
     },
     "metadata": {},
     "output_type": "display_data"
    },
    {
     "data": {
      "text/plain": [
       "15    12207\n",
       "14    11813\n",
       "16    11264\n",
       "13     9905\n",
       "17     8668\n",
       "      ...  \n",
       "91        1\n",
       "92        1\n",
       "95        1\n",
       "65        1\n",
       "98        1\n",
       "Name: chilc5, Length: 97, dtype: int64"
      ]
     },
     "metadata": {},
     "output_type": "display_data"
    },
    {
     "data": {
      "text/plain": [
       "21    3390\n",
       "23    3300\n",
       "24    3298\n",
       "22    3287\n",
       "26    3262\n",
       "      ... \n",
       "78      18\n",
       "89      18\n",
       "99      12\n",
       "96       5\n",
       "98       2\n",
       "Name: hhage1, Length: 99, dtype: int64"
      ]
     },
     "metadata": {},
     "output_type": "display_data"
    },
    {
     "data": {
      "text/plain": [
       "19    3349\n",
       "21    3305\n",
       "20    3264\n",
       "18    3256\n",
       "22    3251\n",
       "      ... \n",
       "87      14\n",
       "99      11\n",
       "95       7\n",
       "97       2\n",
       "96       2\n",
       "Name: hhage3, Length: 99, dtype: int64"
      ]
     },
     "metadata": {},
     "output_type": "display_data"
    },
    {
     "data": {
      "text/plain": [
       "21    3997\n",
       "17    3976\n",
       "19    3950\n",
       "18    3947\n",
       "22    3918\n",
       "      ... \n",
       "91       4\n",
       "87       2\n",
       "89       2\n",
       "92       2\n",
       "96       1\n",
       "Name: hhn1, Length: 98, dtype: int64"
      ]
     },
     "metadata": {},
     "output_type": "display_data"
    },
    {
     "data": {
      "text/plain": [
       "45    3061\n",
       "46    3049\n",
       "47    2983\n",
       "43    2976\n",
       "44    2964\n",
       "      ... \n",
       "90       3\n",
       "92       3\n",
       "91       2\n",
       "93       2\n",
       "94       1\n",
       "Name: hhn3, Length: 96, dtype: int64"
      ]
     },
     "metadata": {},
     "output_type": "display_data"
    },
    {
     "data": {
      "text/plain": [
       "25    4130\n",
       "26    3994\n",
       "27    3980\n",
       "23    3964\n",
       "28    3885\n",
       "      ... \n",
       "86       2\n",
       "93       1\n",
       "82       1\n",
       "81       1\n",
       "79       1\n",
       "Name: hhn4, Length: 86, dtype: int64"
      ]
     },
     "metadata": {},
     "output_type": "display_data"
    },
    {
     "data": {
      "text/plain": [
       "66    4254\n",
       "65    4208\n",
       "67    4041\n",
       "64    3984\n",
       "63    3954\n",
       "      ... \n",
       "4        5\n",
       "1        5\n",
       "91       3\n",
       "93       2\n",
       "95       2\n",
       "Name: marr1, Length: 95, dtype: int64"
      ]
     },
     "metadata": {},
     "output_type": "display_data"
    },
    {
     "data": {
      "text/plain": [
       "19    7373\n",
       "18    7348\n",
       "20    7253\n",
       "21    6694\n",
       "17    5901\n",
       "      ... \n",
       "87       3\n",
       "84       3\n",
       "90       2\n",
       "85       2\n",
       "86       1\n",
       "Name: marr4, Length: 100, dtype: int64"
      ]
     },
     "metadata": {},
     "output_type": "display_data"
    },
    {
     "data": {
      "text/plain": [
       "179    1181\n",
       "177    1162\n",
       "180    1149\n",
       "174    1140\n",
       "178    1122\n",
       "       ... \n",
       "464       1\n",
       "423       1\n",
       "403       1\n",
       "469       1\n",
       "447       1\n",
       "Name: hhp1, Length: 393, dtype: int64"
      ]
     },
     "metadata": {},
     "output_type": "display_data"
    },
    {
     "data": {
      "text/plain": [
       "267    1079\n",
       "260    1057\n",
       "259    1056\n",
       "264    1045\n",
       "263    1040\n",
       "       ... \n",
       "106       1\n",
       "462       1\n",
       "435       1\n",
       "464       1\n",
       "494       1\n",
       "Name: hhp2, Length: 377, dtype: int64"
      ]
     },
     "metadata": {},
     "output_type": "display_data"
    },
    {
     "data": {
      "text/plain": [
       "99    9878\n",
       "98    2604\n",
       "77    1886\n",
       "97    1883\n",
       "75    1826\n",
       "      ... \n",
       "5      207\n",
       "7      196\n",
       "9      196\n",
       "10     188\n",
       "6      180\n",
       "Name: dw1, Length: 100, dtype: int64"
      ]
     },
     "metadata": {},
     "output_type": "display_data"
    },
    {
     "data": {
      "text/plain": [
       "99    6578\n",
       "98    2531\n",
       "71    1830\n",
       "72    1772\n",
       "74    1765\n",
       "      ... \n",
       "7      273\n",
       "5      270\n",
       "10     267\n",
       "6      261\n",
       "13     253\n",
       "Name: dw2, Length: 100, dtype: int64"
      ]
     },
     "metadata": {},
     "output_type": "display_data"
    },
    {
     "data": {
      "text/plain": [
       "0     16326\n",
       "1      8331\n",
       "2      4814\n",
       "3      3788\n",
       "4      3223\n",
       "      ...  \n",
       "89      160\n",
       "91      155\n",
       "83      152\n",
       "90      136\n",
       "93      132\n",
       "Name: dw4, Length: 100, dtype: int64"
      ]
     },
     "metadata": {},
     "output_type": "display_data"
    },
    {
     "data": {
      "text/plain": [
       "0     24860\n",
       "1      7401\n",
       "2      4555\n",
       "3      3608\n",
       "4      3255\n",
       "      ...  \n",
       "94      124\n",
       "79      122\n",
       "92      119\n",
       "90      115\n",
       "89      104\n",
       "Name: dw5, Length: 100, dtype: int64"
      ]
     },
     "metadata": {},
     "output_type": "display_data"
    },
    {
     "data": {
      "text/plain": [
       "0     34134\n",
       "1      6766\n",
       "2      4731\n",
       "3      3722\n",
       "4      3022\n",
       "      ...  \n",
       "84       90\n",
       "91       86\n",
       "88       80\n",
       "99       72\n",
       "92       67\n",
       "Name: dw6, Length: 100, dtype: int64"
      ]
     },
     "metadata": {},
     "output_type": "display_data"
    },
    {
     "data": {
      "text/plain": [
       "0     66889\n",
       "1      8319\n",
       "2      5281\n",
       "3      3030\n",
       "4      2055\n",
       "      ...  \n",
       "89        1\n",
       "74        1\n",
       "91        1\n",
       "94        1\n",
       "96        1\n",
       "Name: dw7, Length: 97, dtype: int64"
      ]
     },
     "metadata": {},
     "output_type": "display_data"
    },
    {
     "data": {
      "text/plain": [
       "0     74846\n",
       "1      5827\n",
       "2      4084\n",
       "3      2289\n",
       "4      1430\n",
       "      ...  \n",
       "67        1\n",
       "81        1\n",
       "82        1\n",
       "86        1\n",
       "94        1\n",
       "Name: dw8, Length: 86, dtype: int64"
      ]
     },
     "metadata": {},
     "output_type": "display_data"
    },
    {
     "data": {
      "text/plain": [
       "0     83535\n",
       "1      5681\n",
       "2      1949\n",
       "3       992\n",
       "4       563\n",
       "      ...  \n",
       "80        1\n",
       "91        1\n",
       "72        1\n",
       "94        1\n",
       "75        1\n",
       "Name: dw9, Length: 91, dtype: int64"
      ]
     },
     "metadata": {},
     "output_type": "display_data"
    },
    {
     "data": {
      "text/plain": [
       "0       1117\n",
       "675      262\n",
       "550      211\n",
       "875      187\n",
       "425      180\n",
       "        ... \n",
       "5871       1\n",
       "4012       1\n",
       "110        1\n",
       "4425       1\n",
       "2047       1\n",
       "Name: hv1, Length: 4434, dtype: int64"
      ]
     },
     "metadata": {},
     "output_type": "display_data"
    },
    {
     "data": {
      "text/plain": [
       "0       1117\n",
       "625      146\n",
       "547      138\n",
       "642      136\n",
       "571      135\n",
       "        ... \n",
       "4456       1\n",
       "3128       1\n",
       "5272       1\n",
       "5174       1\n",
       "178        1\n",
       "Name: hv2, Length: 4623, dtype: int64"
      ]
     },
     "metadata": {},
     "output_type": "display_data"
    },
    {
     "data": {
      "text/plain": [
       "84    2670\n",
       "82    2638\n",
       "85    2544\n",
       "81    2530\n",
       "83    2491\n",
       "      ... \n",
       "3      124\n",
       "5      110\n",
       "4      110\n",
       "2       94\n",
       "6       94\n",
       "Name: hu1, Length: 100, dtype: int64"
      ]
     },
     "metadata": {},
     "output_type": "display_data"
    },
    {
     "data": {
      "text/plain": [
       "16    2669\n",
       "18    2652\n",
       "15    2542\n",
       "19    2531\n",
       "14    2484\n",
       "      ... \n",
       "91     124\n",
       "95     110\n",
       "96     109\n",
       "98      94\n",
       "94      94\n",
       "Name: hu2, Length: 100, dtype: int64"
      ]
     },
     "metadata": {},
     "output_type": "display_data"
    },
    {
     "data": {
      "text/plain": [
       "97    10020\n",
       "96     9729\n",
       "95     8668\n",
       "98     8416\n",
       "94     7464\n",
       "      ...  \n",
       "16        2\n",
       "10        2\n",
       "13        1\n",
       "5         1\n",
       "12        1\n",
       "Name: hu3, Length: 93, dtype: int64"
      ]
     },
     "metadata": {},
     "output_type": "display_data"
    },
    {
     "data": {
      "text/plain": [
       "3     10064\n",
       "4      9718\n",
       "5      8675\n",
       "2      8375\n",
       "6      7461\n",
       "      ...  \n",
       "84        2\n",
       "90        2\n",
       "88        1\n",
       "95        1\n",
       "87        1\n",
       "Name: hu4, Length: 94, dtype: int64"
      ]
     },
     "metadata": {},
     "output_type": "display_data"
    },
    {
     "data": {
      "text/plain": [
       "0     29653\n",
       "3      4975\n",
       "2      4574\n",
       "4      4439\n",
       "5      3935\n",
       "      ...  \n",
       "99       71\n",
       "96       53\n",
       "95       50\n",
       "97       33\n",
       "98       28\n",
       "Name: hu5, Length: 100, dtype: int64"
      ]
     },
     "metadata": {},
     "output_type": "display_data"
    },
    {
     "data": {
      "text/plain": [
       "38    3619\n",
       "36    3424\n",
       "35    3419\n",
       "39    3403\n",
       "37    3381\n",
       "      ... \n",
       "88       2\n",
       "89       2\n",
       "93       2\n",
       "98       1\n",
       "90       1\n",
       "Name: hhd1, Length: 95, dtype: int64"
      ]
     },
     "metadata": {},
     "output_type": "display_data"
    },
    {
     "data": {
      "text/plain": [
       "77    3814\n",
       "78    3610\n",
       "76    3605\n",
       "79    3598\n",
       "75    3533\n",
       "      ... \n",
       "6        6\n",
       "5        3\n",
       "2        3\n",
       "3        1\n",
       "1        1\n",
       "Name: hhd2, Length: 100, dtype: int64"
      ]
     },
     "metadata": {},
     "output_type": "display_data"
    },
    {
     "data": {
      "text/plain": [
       "66    2868\n",
       "67    2832\n",
       "65    2824\n",
       "64    2820\n",
       "63    2779\n",
       "      ... \n",
       "96       6\n",
       "3        5\n",
       "2        5\n",
       "97       3\n",
       "1        3\n",
       "Name: hhd3, Length: 99, dtype: int64"
      ]
     },
     "metadata": {},
     "output_type": "display_data"
    },
    {
     "data": {
      "text/plain": [
       "28    3653\n",
       "27    3609\n",
       "29    3478\n",
       "25    3424\n",
       "26    3413\n",
       "      ... \n",
       "85       2\n",
       "83       2\n",
       "87       1\n",
       "93       1\n",
       "86       1\n",
       "Name: hhd4, Length: 90, dtype: int64"
      ]
     },
     "metadata": {},
     "output_type": "display_data"
    },
    {
     "data": {
      "text/plain": [
       "89    5809\n",
       "90    5732\n",
       "88    5627\n",
       "91    5535\n",
       "87    5250\n",
       "      ... \n",
       "5        7\n",
       "13       7\n",
       "7        6\n",
       "2        6\n",
       "1        5\n",
       "Name: hhd5, Length: 100, dtype: int64"
      ]
     },
     "metadata": {},
     "output_type": "display_data"
    },
    {
     "data": {
      "text/plain": [
       "11    5809\n",
       "10    5732\n",
       "12    5627\n",
       "9     5535\n",
       "13    5250\n",
       "      ... \n",
       "97       8\n",
       "95       7\n",
       "87       7\n",
       "93       6\n",
       "98       6\n",
       "Name: hhd6, Length: 100, dtype: int64"
      ]
     },
     "metadata": {},
     "output_type": "display_data"
    },
    {
     "data": {
      "text/plain": [
       "59    4448\n",
       "60    4387\n",
       "58    4343\n",
       "56    4172\n",
       "55    4165\n",
       "      ... \n",
       "87       7\n",
       "89       6\n",
       "91       3\n",
       "93       2\n",
       "92       1\n",
       "Name: ethc2, Length: 95, dtype: int64"
      ]
     },
     "metadata": {},
     "output_type": "display_data"
    },
    {
     "data": {
      "text/plain": [
       "12    4383\n",
       "13    4336\n",
       "15    4308\n",
       "14    4225\n",
       "16    4145\n",
       "      ... \n",
       "77      13\n",
       "85      12\n",
       "97       5\n",
       "99       4\n",
       "98       1\n",
       "Name: ethc3, Length: 100, dtype: int64"
      ]
     },
     "metadata": {},
     "output_type": "display_data"
    },
    {
     "data": {
      "text/plain": [
       "0     40051\n",
       "1     13769\n",
       "2      5680\n",
       "3      3391\n",
       "4      2371\n",
       "      ...  \n",
       "58      140\n",
       "55      134\n",
       "62      123\n",
       "64      120\n",
       "59      115\n",
       "Name: hvp1, Length: 100, dtype: int64"
      ]
     },
     "metadata": {},
     "output_type": "display_data"
    },
    {
     "data": {
      "text/plain": [
       "0     24097\n",
       "1     13011\n",
       "2      6773\n",
       "3      4216\n",
       "4      3075\n",
       "      ...  \n",
       "72      187\n",
       "61      187\n",
       "58      171\n",
       "73      170\n",
       "65      168\n",
       "Name: hvp2, Length: 100, dtype: int64"
      ]
     },
     "metadata": {},
     "output_type": "display_data"
    },
    {
     "data": {
      "text/plain": [
       "0     8692\n",
       "1     6520\n",
       "99    6164\n",
       "2     4937\n",
       "3     3976\n",
       "      ... \n",
       "77     303\n",
       "62     302\n",
       "70     297\n",
       "72     297\n",
       "66     282\n",
       "Name: hvp3, Length: 100, dtype: int64"
      ]
     },
     "metadata": {},
     "output_type": "display_data"
    },
    {
     "data": {
      "text/plain": [
       "99    12148\n",
       "98     3792\n",
       "0      2955\n",
       "97     2326\n",
       "1      1811\n",
       "      ...  \n",
       "63      440\n",
       "57      439\n",
       "54      424\n",
       "69      413\n",
       "65      412\n",
       "Name: hvp4, Length: 100, dtype: int64"
      ]
     },
     "metadata": {},
     "output_type": "display_data"
    },
    {
     "data": {
      "text/plain": [
       "99    26659\n",
       "98     5650\n",
       "97     3321\n",
       "96     2679\n",
       "95     2106\n",
       "      ...  \n",
       "6       212\n",
       "5       208\n",
       "3       191\n",
       "2       167\n",
       "1       106\n",
       "Name: hvp5, Length: 100, dtype: int64"
      ]
     },
     "metadata": {},
     "output_type": "display_data"
    },
    {
     "data": {
      "text/plain": [
       "0     61118\n",
       "1     10168\n",
       "2      3653\n",
       "3      2230\n",
       "4      1565\n",
       "      ...  \n",
       "46       70\n",
       "62       70\n",
       "86       67\n",
       "68       65\n",
       "63       49\n",
       "Name: hvp6, Length: 100, dtype: int64"
      ]
     },
     "metadata": {},
     "output_type": "display_data"
    },
    {
     "data": {
      "text/plain": [
       "1     18487\n",
       "0     17095\n",
       "2     13924\n",
       "3      9691\n",
       "4      6732\n",
       "      ...  \n",
       "80        1\n",
       "93        1\n",
       "79        1\n",
       "96        1\n",
       "97        1\n",
       "Name: hur1, Length: 96, dtype: int64"
      ]
     },
     "metadata": {},
     "output_type": "display_data"
    },
    {
     "data": {
      "text/plain": [
       "41    2114\n",
       "40    2091\n",
       "39    2068\n",
       "42    2065\n",
       "36    2060\n",
       "      ... \n",
       "97     286\n",
       "1      278\n",
       "96     276\n",
       "98     220\n",
       "99     163\n",
       "Name: hur2, Length: 100, dtype: int64"
      ]
     },
     "metadata": {},
     "output_type": "display_data"
    },
    {
     "data": {
      "text/plain": [
       "0     17899\n",
       "1      9897\n",
       "2      6320\n",
       "3      5162\n",
       "4      4634\n",
       "      ...  \n",
       "99        8\n",
       "92        7\n",
       "90        4\n",
       "93        3\n",
       "95        2\n",
       "Name: hupa1, Length: 96, dtype: int64"
      ]
     },
     "metadata": {},
     "output_type": "display_data"
    },
    {
     "data": {
      "text/plain": [
       "0     44554\n",
       "1      6831\n",
       "2      4362\n",
       "3      3324\n",
       "4      2617\n",
       "      ...  \n",
       "98       46\n",
       "90       39\n",
       "89       38\n",
       "88       36\n",
       "92       22\n",
       "Name: hupa2, Length: 100, dtype: int64"
      ]
     },
     "metadata": {},
     "output_type": "display_data"
    },
    {
     "data": {
      "text/plain": [
       "0     48359\n",
       "1      5028\n",
       "2      2402\n",
       "3      1818\n",
       "4      1703\n",
       "      ...  \n",
       "94       16\n",
       "96       16\n",
       "88       15\n",
       "92       15\n",
       "95       12\n",
       "Name: hupa3, Length: 100, dtype: int64"
      ]
     },
     "metadata": {},
     "output_type": "display_data"
    },
    {
     "data": {
      "text/plain": [
       "8     6111\n",
       "9     5902\n",
       "7     5902\n",
       "10    5827\n",
       "6     5641\n",
       "      ... \n",
       "75       1\n",
       "65       1\n",
       "91       1\n",
       "96       1\n",
       "78       1\n",
       "Name: hupa4, Length: 97, dtype: int64"
      ]
     },
     "metadata": {},
     "output_type": "display_data"
    },
    {
     "data": {
      "text/plain": [
       "0     36538\n",
       "1      6863\n",
       "2      4742\n",
       "3      3918\n",
       "4      3005\n",
       "      ...  \n",
       "93       39\n",
       "90       37\n",
       "99       36\n",
       "96       32\n",
       "98       28\n",
       "Name: hupa6, Length: 100, dtype: int64"
      ]
     },
     "metadata": {},
     "output_type": "display_data"
    },
    {
     "data": {
      "text/plain": [
       "0     16042\n",
       "1      7380\n",
       "2      4655\n",
       "3      3296\n",
       "4      2615\n",
       "      ...  \n",
       "66      394\n",
       "51      392\n",
       "49      382\n",
       "68      379\n",
       "62      368\n",
       "Name: rp1, Length: 100, dtype: int64"
      ]
     },
     "metadata": {},
     "output_type": "display_data"
    },
    {
     "data": {
      "text/plain": [
       "0     6483\n",
       "1     4087\n",
       "2     3250\n",
       "3     2659\n",
       "4     2238\n",
       "      ... \n",
       "48     483\n",
       "51     467\n",
       "49     461\n",
       "52     450\n",
       "66     442\n",
       "Name: rp2, Length: 100, dtype: int64"
      ]
     },
     "metadata": {},
     "output_type": "display_data"
    },
    {
     "data": {
      "text/plain": [
       "99    3826\n",
       "97    3287\n",
       "98    3088\n",
       "96    2974\n",
       "95    2647\n",
       "      ... \n",
       "37     527\n",
       "41     526\n",
       "34     497\n",
       "49     490\n",
       "46     469\n",
       "Name: rp3, Length: 100, dtype: int64"
      ]
     },
     "metadata": {},
     "output_type": "display_data"
    },
    {
     "data": {
      "text/plain": [
       "99    7684\n",
       "98    5918\n",
       "97    5305\n",
       "96    4593\n",
       "95    3977\n",
       "      ... \n",
       "6       82\n",
       "4       46\n",
       "3       37\n",
       "2       17\n",
       "1        5\n",
       "Name: rp4, Length: 100, dtype: int64"
      ]
     },
     "metadata": {},
     "output_type": "display_data"
    },
    {
     "data": {
      "text/plain": [
       "0.0       21333\n",
       "4480.0     4606\n",
       "1600.0     4059\n",
       "2160.0     2586\n",
       "520.0      1685\n",
       "          ...  \n",
       "2975.0        1\n",
       "9140.0        1\n",
       "9280.0        1\n",
       "9000.0        1\n",
       "1320.0        1\n",
       "Name: msa, Length: 298, dtype: int64"
      ]
     },
     "metadata": {},
     "output_type": "display_data"
    },
    {
     "data": {
      "text/plain": [
       "13.0     7296\n",
       "51.0     4622\n",
       "65.0     3765\n",
       "57.0     2836\n",
       "105.0    2617\n",
       "         ... \n",
       "147.0       1\n",
       "161.0       1\n",
       "651.0       1\n",
       "103.0       1\n",
       "601.0       1\n",
       "Name: adi, Length: 204, dtype: int64"
      ]
     },
     "metadata": {},
     "output_type": "display_data"
    },
    {
     "data": {
      "text/plain": [
       "803.0    7296\n",
       "602.0    4632\n",
       "807.0    3765\n",
       "505.0    2839\n",
       "819.0    2588\n",
       "         ... \n",
       "569.0       1\n",
       "516.0       1\n",
       "552.0       1\n",
       "554.0       1\n",
       "584.0       1\n",
       "Name: dma, Length: 206, dtype: int64"
      ]
     },
     "metadata": {},
     "output_type": "display_data"
    },
    {
     "data": {
      "text/plain": [
       "0       878\n",
       "263     426\n",
       "313     411\n",
       "213     409\n",
       "258     402\n",
       "       ... \n",
       "1189      1\n",
       "1236      1\n",
       "1300      1\n",
       "1210      1\n",
       "1330      1\n",
       "Name: ic1, Length: 1134, dtype: int64"
      ]
     },
     "metadata": {},
     "output_type": "display_data"
    },
    {
     "data": {
      "text/plain": [
       "0       928\n",
       "288     467\n",
       "313     390\n",
       "315     376\n",
       "263     376\n",
       "       ... \n",
       "1103      1\n",
       "975       1\n",
       "1126      1\n",
       "1422      1\n",
       "1407      1\n",
       "Name: ic2, Length: 1213, dtype: int64"
      ]
     },
     "metadata": {},
     "output_type": "display_data"
    },
    {
     "data": {
      "text/plain": [
       "0       878\n",
       "271     393\n",
       "278     378\n",
       "280     377\n",
       "279     373\n",
       "       ... \n",
       "1299      1\n",
       "1008      1\n",
       "49        1\n",
       "83        1\n",
       "1173      1\n",
       "Name: ic3, Length: 1091, dtype: int64"
      ]
     },
     "metadata": {},
     "output_type": "display_data"
    },
    {
     "data": {
      "text/plain": [
       "0       928\n",
       "344     370\n",
       "320     350\n",
       "325     347\n",
       "346     346\n",
       "       ... \n",
       "1258      1\n",
       "1232      1\n",
       "81        1\n",
       "1206      1\n",
       "1105      1\n",
       "Name: ic4, Length: 1156, dtype: int64"
      ]
     },
     "metadata": {},
     "output_type": "display_data"
    },
    {
     "data": {
      "text/plain": [
       "0        860\n",
       "22875     41\n",
       "13103     27\n",
       "10931     26\n",
       "12577     26\n",
       "        ... \n",
       "29884      1\n",
       "4683       1\n",
       "6730       1\n",
       "21688      1\n",
       "21188      1\n",
       "Name: ic5, Length: 21514, dtype: int64"
      ]
     },
     "metadata": {},
     "output_type": "display_data"
    },
    {
     "data": {
      "text/plain": [
       "11    2887\n",
       "10    2848\n",
       "13    2789\n",
       "6     2739\n",
       "8     2730\n",
       "      ... \n",
       "89       3\n",
       "93       3\n",
       "92       2\n",
       "95       2\n",
       "96       1\n",
       "Name: ic6, Length: 99, dtype: int64"
      ]
     },
     "metadata": {},
     "output_type": "display_data"
    },
    {
     "data": {
      "text/plain": [
       "0     5579\n",
       "4     4471\n",
       "3     4345\n",
       "5     4324\n",
       "6     4195\n",
       "      ... \n",
       "95       1\n",
       "86       1\n",
       "89       1\n",
       "91       1\n",
       "96       1\n",
       "Name: ic15, Length: 96, dtype: int64"
      ]
     },
     "metadata": {},
     "output_type": "display_data"
    },
    {
     "data": {
      "text/plain": [
       "29    2979\n",
       "24    2959\n",
       "26    2940\n",
       "28    2913\n",
       "23    2861\n",
       "      ... \n",
       "96       9\n",
       "95       5\n",
       "94       4\n",
       "97       3\n",
       "98       2\n",
       "Name: hhas1, Length: 100, dtype: int64"
      ]
     },
     "metadata": {},
     "output_type": "display_data"
    },
    {
     "data": {
      "text/plain": [
       "44    2243\n",
       "43    2195\n",
       "42    2189\n",
       "49    2128\n",
       "46    2127\n",
       "      ... \n",
       "91      17\n",
       "93      16\n",
       "95       9\n",
       "97       6\n",
       "96       1\n",
       "Name: hhas3, Length: 99, dtype: int64"
      ]
     },
     "metadata": {},
     "output_type": "display_data"
    },
    {
     "data": {
      "text/plain": [
       "3     6631\n",
       "4     6537\n",
       "5     6276\n",
       "2     6222\n",
       "6     5281\n",
       "      ... \n",
       "81       1\n",
       "83       1\n",
       "85       1\n",
       "88       1\n",
       "89       1\n",
       "Name: hhas4, Length: 93, dtype: int64"
      ]
     },
     "metadata": {},
     "output_type": "display_data"
    },
    {
     "data": {
      "text/plain": [
       "41    2654\n",
       "44    2637\n",
       "43    2633\n",
       "46    2628\n",
       "40    2578\n",
       "      ... \n",
       "7        7\n",
       "5        4\n",
       "3        2\n",
       "4        1\n",
       "1        1\n",
       "Name: mc1, Length: 99, dtype: int64"
      ]
     },
     "metadata": {},
     "output_type": "display_data"
    },
    {
     "data": {
      "text/plain": [
       "59    2662\n",
       "56    2637\n",
       "57    2623\n",
       "54    2619\n",
       "52    2577\n",
       "      ... \n",
       "94      10\n",
       "93       7\n",
       "95       4\n",
       "97       2\n",
       "96       1\n",
       "Name: mc2, Length: 99, dtype: int64"
      ]
     },
     "metadata": {},
     "output_type": "display_data"
    },
    {
     "data": {
      "text/plain": [
       "5     6293\n",
       "6     5913\n",
       "4     5708\n",
       "7     5661\n",
       "8     5428\n",
       "      ... \n",
       "94       3\n",
       "91       2\n",
       "92       1\n",
       "93       1\n",
       "80       1\n",
       "Name: mc3, Length: 98, dtype: int64"
      ]
     },
     "metadata": {},
     "output_type": "display_data"
    },
    {
     "data": {
      "text/plain": [
       "81    4580\n",
       "82    4418\n",
       "80    4392\n",
       "83    4280\n",
       "79    4248\n",
       "      ... \n",
       "6        4\n",
       "3        3\n",
       "2        2\n",
       "4        2\n",
       "13       2\n",
       "Name: tpe1, Length: 99, dtype: int64"
      ]
     },
     "metadata": {},
     "output_type": "display_data"
    },
    {
     "data": {
      "text/plain": [
       "0     7250\n",
       "3     5090\n",
       "2     5073\n",
       "4     4487\n",
       "5     4274\n",
       "      ... \n",
       "94       9\n",
       "95       7\n",
       "96       7\n",
       "91       6\n",
       "97       2\n",
       "Name: pec2, Length: 99, dtype: int64"
      ]
     },
     "metadata": {},
     "output_type": "display_data"
    },
    {
     "data": {
      "text/plain": [
       "72    2695\n",
       "71    2668\n",
       "70    2665\n",
       "74    2640\n",
       "69    2629\n",
       "      ... \n",
       "4        7\n",
       "3        7\n",
       "98       6\n",
       "2        5\n",
       "1        1\n",
       "Name: tpe13, Length: 100, dtype: int64"
      ]
     },
     "metadata": {},
     "output_type": "display_data"
    },
    {
     "data": {
      "text/plain": [
       "66    3615\n",
       "68    3607\n",
       "67    3601\n",
       "65    3569\n",
       "70    3448\n",
       "      ... \n",
       "2        8\n",
       "98       7\n",
       "97       7\n",
       "3        5\n",
       "1        1\n",
       "Name: lfc1, Length: 100, dtype: int64"
      ]
     },
     "metadata": {},
     "output_type": "display_data"
    },
    {
     "data": {
      "text/plain": [
       "78    3724\n",
       "76    3687\n",
       "80    3670\n",
       "79    3655\n",
       "77    3621\n",
       "      ... \n",
       "5       10\n",
       "4        5\n",
       "2        5\n",
       "3        2\n",
       "1        2\n",
       "Name: lfc2, Length: 100, dtype: int64"
      ]
     },
     "metadata": {},
     "output_type": "display_data"
    },
    {
     "data": {
      "text/plain": [
       "58    3387\n",
       "57    3304\n",
       "59    3302\n",
       "56    3187\n",
       "55    3147\n",
       "      ... \n",
       "95       8\n",
       "94       6\n",
       "97       5\n",
       "96       5\n",
       "98       1\n",
       "Name: lfc3, Length: 99, dtype: int64"
      ]
     },
     "metadata": {},
     "output_type": "display_data"
    },
    {
     "data": {
      "text/plain": [
       "75    3464\n",
       "76    3436\n",
       "74    3313\n",
       "77    3309\n",
       "73    3292\n",
       "      ... \n",
       "5       20\n",
       "4        5\n",
       "3        2\n",
       "2        2\n",
       "1        2\n",
       "Name: lfc4, Length: 100, dtype: int64"
      ]
     },
     "metadata": {},
     "output_type": "display_data"
    },
    {
     "data": {
      "text/plain": [
       "55    3190\n",
       "53    3171\n",
       "54    3145\n",
       "56    3099\n",
       "57    3057\n",
       "      ... \n",
       "92      11\n",
       "96       5\n",
       "94       4\n",
       "95       3\n",
       "97       1\n",
       "Name: lfc5, Length: 98, dtype: int64"
      ]
     },
     "metadata": {},
     "output_type": "display_data"
    },
    {
     "data": {
      "text/plain": [
       "68    3152\n",
       "69    3094\n",
       "65    3076\n",
       "67    2972\n",
       "70    2955\n",
       "      ... \n",
       "7        5\n",
       "6        4\n",
       "5        2\n",
       "4        1\n",
       "3        1\n",
       "Name: lfc6, Length: 98, dtype: int64"
      ]
     },
     "metadata": {},
     "output_type": "display_data"
    },
    {
     "data": {
      "text/plain": [
       "55    2704\n",
       "52    2659\n",
       "50    2638\n",
       "53    2600\n",
       "54    2535\n",
       "      ... \n",
       "2       20\n",
       "96      17\n",
       "97       8\n",
       "1        8\n",
       "98       1\n",
       "Name: lfc7, Length: 100, dtype: int64"
      ]
     },
     "metadata": {},
     "output_type": "display_data"
    },
    {
     "data": {
      "text/plain": [
       "99    28256\n",
       "0      9313\n",
       "81     1355\n",
       "76     1332\n",
       "88     1312\n",
       "      ...  \n",
       "7        21\n",
       "5         8\n",
       "6         7\n",
       "4         4\n",
       "3         2\n",
       "Name: lfc8, Length: 98, dtype: int64"
      ]
     },
     "metadata": {},
     "output_type": "display_data"
    },
    {
     "data": {
      "text/plain": [
       "99    46942\n",
       "0     30500\n",
       "89      597\n",
       "92      551\n",
       "93      548\n",
       "      ...  \n",
       "9         5\n",
       "5         4\n",
       "10        3\n",
       "12        1\n",
       "4         1\n",
       "Name: lfc9, Length: 96, dtype: int64"
      ]
     },
     "metadata": {},
     "output_type": "display_data"
    },
    {
     "data": {
      "text/plain": [
       "0     28122\n",
       "2      6627\n",
       "3      6510\n",
       "4      6019\n",
       "5      5195\n",
       "      ...  \n",
       "83        1\n",
       "72        1\n",
       "86        1\n",
       "89        1\n",
       "91        1\n",
       "Name: lfc10, Length: 91, dtype: int64"
      ]
     },
     "metadata": {},
     "output_type": "display_data"
    },
    {
     "data": {
      "text/plain": [
       "75    4134\n",
       "74    4024\n",
       "73    4022\n",
       "72    3979\n",
       "76    3951\n",
       "      ... \n",
       "13       1\n",
       "12       1\n",
       "11       1\n",
       "9        1\n",
       "17       1\n",
       "Name: oedc5, Length: 91, dtype: int64"
      ]
     },
     "metadata": {},
     "output_type": "display_data"
    },
    {
     "data": {
      "text/plain": [
       "23    6389\n",
       "22    6349\n",
       "24    6289\n",
       "25    6046\n",
       "21    5815\n",
       "      ... \n",
       "88       2\n",
       "89       2\n",
       "98       1\n",
       "92       1\n",
       "82       1\n",
       "Name: sec2, Length: 97, dtype: int64"
      ]
     },
     "metadata": {},
     "output_type": "display_data"
    },
    {
     "data": {
      "text/plain": [
       "5     12026\n",
       "4     11946\n",
       "6     10967\n",
       "3      9960\n",
       "7      9816\n",
       "      ...  \n",
       "85        1\n",
       "91        1\n",
       "95        1\n",
       "96        1\n",
       "87        1\n",
       "Name: sec5, Length: 97, dtype: int64"
      ]
     },
     "metadata": {},
     "output_type": "display_data"
    },
    {
     "data": {
      "text/plain": [
       "0     73368\n",
       "1      9538\n",
       "2      4457\n",
       "3      2140\n",
       "4      1169\n",
       "      ...  \n",
       "68        1\n",
       "71        1\n",
       "72        1\n",
       "57        1\n",
       "63        1\n",
       "Name: afc2, Length: 96, dtype: int64"
      ]
     },
     "metadata": {},
     "output_type": "display_data"
    },
    {
     "data": {
      "text/plain": [
       "30    4513\n",
       "31    4463\n",
       "32    4305\n",
       "33    4227\n",
       "29    4176\n",
       "      ... \n",
       "81       5\n",
       "84       4\n",
       "83       3\n",
       "90       1\n",
       "80       1\n",
       "Name: afc5, Length: 88, dtype: int64"
      ]
     },
     "metadata": {},
     "output_type": "display_data"
    },
    {
     "data": {
      "text/plain": [
       "0     3150\n",
       "27    3103\n",
       "28    3065\n",
       "32    2994\n",
       "29    2978\n",
       "      ... \n",
       "87       5\n",
       "89       4\n",
       "93       2\n",
       "92       1\n",
       "91       1\n",
       "Name: vc1, Length: 95, dtype: int64"
      ]
     },
     "metadata": {},
     "output_type": "display_data"
    },
    {
     "data": {
      "text/plain": [
       "0     6030\n",
       "17    5101\n",
       "18    5011\n",
       "16    4995\n",
       "19    4855\n",
       "      ... \n",
       "86       1\n",
       "79       1\n",
       "82       1\n",
       "84       1\n",
       "85       1\n",
       "Name: vc2, Length: 89, dtype: int64"
      ]
     },
     "metadata": {},
     "output_type": "display_data"
    },
    {
     "data": {
      "text/plain": [
       "0     2912\n",
       "32    2572\n",
       "33    2467\n",
       "28    2452\n",
       "36    2442\n",
       "      ... \n",
       "96      27\n",
       "92       8\n",
       "95       7\n",
       "98       6\n",
       "97       5\n",
       "Name: vc3, Length: 100, dtype: int64"
      ]
     },
     "metadata": {},
     "output_type": "display_data"
    },
    {
     "data": {
      "text/plain": [
       "0     16207\n",
       "8      5094\n",
       "7      4786\n",
       "9      4663\n",
       "6      4663\n",
       "      ...  \n",
       "89        2\n",
       "94        2\n",
       "93        2\n",
       "91        1\n",
       "96        1\n",
       "Name: vc4, Length: 97, dtype: int64"
      ]
     },
     "metadata": {},
     "output_type": "display_data"
    },
    {
     "data": {
      "text/plain": [
       "0     16115\n",
       "1     15847\n",
       "2     10241\n",
       "3      8171\n",
       "4      6320\n",
       "      ...  \n",
       "83        3\n",
       "81        2\n",
       "85        2\n",
       "90        2\n",
       "99        1\n",
       "Name: pobc1, Length: 88, dtype: int64"
      ]
     },
     "metadata": {},
     "output_type": "display_data"
    },
    {
     "data": {
      "text/plain": [
       "80    1769\n",
       "79    1728\n",
       "81    1712\n",
       "82    1652\n",
       "76    1629\n",
       "      ... \n",
       "4      112\n",
       "96     105\n",
       "97      51\n",
       "99      31\n",
       "98      23\n",
       "Name: pobc2, Length: 100, dtype: int64"
      ]
     },
     "metadata": {},
     "output_type": "display_data"
    },
    {
     "data": {
      "text/plain": [
       "98    9921\n",
       "97    9830\n",
       "99    8794\n",
       "96    7976\n",
       "95    6776\n",
       "      ... \n",
       "6       27\n",
       "4       24\n",
       "3       19\n",
       "2       13\n",
       "1        5\n",
       "Name: lsc1, Length: 100, dtype: int64"
      ]
     },
     "metadata": {},
     "output_type": "display_data"
    },
    {
     "data": {
      "text/plain": [
       "1     23054\n",
       "0     19000\n",
       "2     13228\n",
       "3      7668\n",
       "4      5246\n",
       "      ...  \n",
       "96       18\n",
       "98       14\n",
       "95       13\n",
       "97       11\n",
       "99        9\n",
       "Name: lsc2, Length: 100, dtype: int64"
      ]
     },
     "metadata": {},
     "output_type": "display_data"
    },
    {
     "data": {
      "text/plain": [
       "99    21096\n",
       "98     9549\n",
       "97     8461\n",
       "96     7763\n",
       "95     6476\n",
       "      ...  \n",
       "20        3\n",
       "21        2\n",
       "11        2\n",
       "12        1\n",
       "9         1\n",
       "Name: voc1, Length: 93, dtype: int64"
      ]
     },
     "metadata": {},
     "output_type": "display_data"
    },
    {
     "data": {
      "text/plain": [
       "62    2192\n",
       "64    2178\n",
       "61    2164\n",
       "67    2159\n",
       "65    2147\n",
       "      ... \n",
       "3       59\n",
       "98      46\n",
       "4       44\n",
       "2       30\n",
       "1       30\n",
       "Name: voc2, Length: 100, dtype: int64"
      ]
     },
     "metadata": {},
     "output_type": "display_data"
    },
    {
     "data": {
      "text/plain": [
       "0     26755\n",
       "2      4281\n",
       "3      4058\n",
       "4      3634\n",
       "5      3350\n",
       "      ...  \n",
       "81       36\n",
       "83       30\n",
       "90       29\n",
       "94       27\n",
       "96       25\n",
       "Name: hc4, Length: 100, dtype: int64"
      ]
     },
     "metadata": {},
     "output_type": "display_data"
    },
    {
     "data": {
      "text/plain": [
       "0     18117\n",
       "3      2556\n",
       "2      2527\n",
       "4      2397\n",
       "5      2181\n",
       "      ...  \n",
       "86      149\n",
       "84      149\n",
       "87      146\n",
       "91      139\n",
       "97      121\n",
       "Name: hc5, Length: 100, dtype: int64"
      ]
     },
     "metadata": {},
     "output_type": "display_data"
    },
    {
     "data": {
      "text/plain": [
       "0     8767\n",
       "99    4613\n",
       "3     1389\n",
       "5     1284\n",
       "4     1273\n",
       "      ... \n",
       "17     671\n",
       "90     655\n",
       "85     636\n",
       "78     634\n",
       "1      392\n",
       "Name: hc6, Length: 100, dtype: int64"
      ]
     },
     "metadata": {},
     "output_type": "display_data"
    },
    {
     "data": {
      "text/plain": [
       "99    11290\n",
       "0      4089\n",
       "98     2415\n",
       "97     2067\n",
       "96     1875\n",
       "      ...  \n",
       "24      472\n",
       "25      467\n",
       "21      464\n",
       "2       453\n",
       "1        62\n",
       "Name: hc7, Length: 100, dtype: int64"
      ]
     },
     "metadata": {},
     "output_type": "display_data"
    },
    {
     "data": {
      "text/plain": [
       "0     10198\n",
       "99     2880\n",
       "2      2410\n",
       "1      2359\n",
       "3      2073\n",
       "      ...  \n",
       "76      471\n",
       "75      468\n",
       "66      468\n",
       "79      465\n",
       "98      457\n",
       "Name: hc8, Length: 100, dtype: int64"
      ]
     },
     "metadata": {},
     "output_type": "display_data"
    },
    {
     "data": {
      "text/plain": [
       "0     69834\n",
       "1      3926\n",
       "2      2868\n",
       "3      2300\n",
       "4      1828\n",
       "      ...  \n",
       "77        2\n",
       "84        2\n",
       "78        2\n",
       "90        1\n",
       "80        1\n",
       "Name: hc9, Length: 87, dtype: int64"
      ]
     },
     "metadata": {},
     "output_type": "display_data"
    },
    {
     "data": {
      "text/plain": [
       "0     9588\n",
       "1     3464\n",
       "99    2653\n",
       "2     2224\n",
       "94    1872\n",
       "      ... \n",
       "24     482\n",
       "21     480\n",
       "35     467\n",
       "18     443\n",
       "17     416\n",
       "Name: hc11, Length: 100, dtype: int64"
      ]
     },
     "metadata": {},
     "output_type": "display_data"
    },
    {
     "data": {
      "text/plain": [
       "0     35875\n",
       "1     12192\n",
       "2      9021\n",
       "3      5248\n",
       "4      3635\n",
       "      ...  \n",
       "81        2\n",
       "91        1\n",
       "88        1\n",
       "89        1\n",
       "87        1\n",
       "Name: hc12, Length: 92, dtype: int64"
      ]
     },
     "metadata": {},
     "output_type": "display_data"
    },
    {
     "data": {
      "text/plain": [
       "0     5739\n",
       "3     3077\n",
       "2     3024\n",
       "5     2898\n",
       "4     2863\n",
       "      ... \n",
       "81     311\n",
       "86     308\n",
       "76     299\n",
       "78     289\n",
       "83     285\n",
       "Name: hc13, Length: 100, dtype: int64"
      ]
     },
     "metadata": {},
     "output_type": "display_data"
    },
    {
     "data": {
      "text/plain": [
       "0     52292\n",
       "1      8143\n",
       "2      5678\n",
       "3      3861\n",
       "4      2973\n",
       "      ...  \n",
       "82        1\n",
       "83        1\n",
       "85        1\n",
       "92        1\n",
       "99        1\n",
       "Name: hc14, Length: 98, dtype: int64"
      ]
     },
     "metadata": {},
     "output_type": "display_data"
    },
    {
     "data": {
      "text/plain": [
       "0     42397\n",
       "1     10201\n",
       "2      7852\n",
       "3      5273\n",
       "4      3602\n",
       "      ...  \n",
       "94        1\n",
       "91        1\n",
       "84        1\n",
       "99        1\n",
       "87        1\n",
       "Name: hc16, Length: 92, dtype: int64"
      ]
     },
     "metadata": {},
     "output_type": "display_data"
    },
    {
     "data": {
      "text/plain": [
       "99    49918\n",
       "98     3988\n",
       "0      2599\n",
       "97     2545\n",
       "96     1837\n",
       "      ...  \n",
       "16      172\n",
       "21      171\n",
       "11      164\n",
       "14      160\n",
       "20      158\n",
       "Name: hc17, Length: 100, dtype: int64"
      ]
     },
     "metadata": {},
     "output_type": "display_data"
    },
    {
     "data": {
      "text/plain": [
       "0     46610\n",
       "1      5254\n",
       "2      3778\n",
       "3      2496\n",
       "4      1856\n",
       "      ...  \n",
       "76      162\n",
       "72      160\n",
       "75      157\n",
       "63      157\n",
       "83      131\n",
       "Name: hc18, Length: 100, dtype: int64"
      ]
     },
     "metadata": {},
     "output_type": "display_data"
    },
    {
     "data": {
      "text/plain": [
       "99    35462\n",
       "98     5007\n",
       "0      3540\n",
       "97     3445\n",
       "96     2357\n",
       "      ...  \n",
       "44      296\n",
       "20      296\n",
       "35      288\n",
       "49      284\n",
       "39      279\n",
       "Name: hc19, Length: 100, dtype: int64"
      ]
     },
     "metadata": {},
     "output_type": "display_data"
    },
    {
     "data": {
      "text/plain": [
       "A1F    15696\n",
       "F1F     6704\n",
       "A1G     6634\n",
       "A1E     5429\n",
       "A2F     5353\n",
       "       ...  \n",
       "U1C        1\n",
       "A2B        1\n",
       "A3B        1\n",
       "P1A        1\n",
       "I1D        1\n",
       "Name: rfa_6, Length: 109, dtype: int64"
      ]
     },
     "metadata": {},
     "output_type": "display_data"
    },
    {
     "data": {
      "text/plain": [
       "A1F    10954\n",
       "        8874\n",
       "A1E     6602\n",
       "A1G     4927\n",
       "A2F     4830\n",
       "       ...  \n",
       "I4D        1\n",
       "A2B        1\n",
       "L3C        1\n",
       "N4C        1\n",
       "U1G        1\n",
       "Name: rfa_7, Length: 106, dtype: int64"
      ]
     },
     "metadata": {},
     "output_type": "display_data"
    },
    {
     "data": {
      "text/plain": [
       "A1F    11312\n",
       "A1E     6904\n",
       "A1G     5063\n",
       "A2F     4961\n",
       "F1F     3984\n",
       "       ...  \n",
       "N4C        2\n",
       "I3E        1\n",
       "L3C        1\n",
       "L4C        1\n",
       "U1D        1\n",
       "Name: rfa_8, Length: 109, dtype: int64"
      ]
     },
     "metadata": {},
     "output_type": "display_data"
    },
    {
     "data": {
      "text/plain": [
       "       11245\n",
       "A1F     9629\n",
       "A1E     7038\n",
       "A1G     4259\n",
       "A2F     4155\n",
       "       ...  \n",
       "A2B        2\n",
       "A3B        2\n",
       "U1D        1\n",
       "N2A        1\n",
       "I1E        1\n",
       "Name: rfa_9, Length: 107, dtype: int64"
      ]
     },
     "metadata": {},
     "output_type": "display_data"
    },
    {
     "data": {
      "text/plain": [
       "       32748\n",
       "A1F     9204\n",
       "A1E     6153\n",
       "A1G     3943\n",
       "A2F     3516\n",
       "       ...  \n",
       "I4C        1\n",
       "A2B        1\n",
       "L3D        1\n",
       "A4B        1\n",
       "L4F        1\n",
       "Name: rfa_10, Length: 94, dtype: int64"
      ]
     },
     "metadata": {},
     "output_type": "display_data"
    },
    {
     "data": {
      "text/plain": [
       "       10422\n",
       "A1F     9745\n",
       "A1E     7029\n",
       "A1G     4144\n",
       "A2F     3735\n",
       "       ...  \n",
       "S3B        8\n",
       "A4B        4\n",
       "S2B        4\n",
       "A3B        3\n",
       "A2B        2\n",
       "Name: rfa_11, Length: 101, dtype: int64"
      ]
     },
     "metadata": {},
     "output_type": "display_data"
    },
    {
     "data": {
      "text/plain": [
       "A1F    9857\n",
       "       8923\n",
       "A1E    7121\n",
       "A1G    4199\n",
       "A2F    3783\n",
       "       ... \n",
       "A4B       4\n",
       "A3B       3\n",
       "A2B       2\n",
       "U1C       1\n",
       "F1B       1\n",
       "Name: rfa_12, Length: 107, dtype: int64"
      ]
     },
     "metadata": {},
     "output_type": "display_data"
    },
    {
     "data": {
      "text/plain": [
       "       40219\n",
       "A1F     9066\n",
       "A1G     3954\n",
       "A2F     3281\n",
       "A2E     2695\n",
       "       ...  \n",
       "I4C        1\n",
       "F1B        1\n",
       "U1F        1\n",
       "U1G        1\n",
       "L3G        1\n",
       "Name: rfa_13, Length: 87, dtype: int64"
      ]
     },
     "metadata": {},
     "output_type": "display_data"
    },
    {
     "data": {
      "text/plain": [
       "       18867\n",
       "A1F     8053\n",
       "A1E     7766\n",
       "A1G     3740\n",
       "A1D     3577\n",
       "       ...  \n",
       "U1E        4\n",
       "I3F        3\n",
       "L2D        3\n",
       "N2B        1\n",
       "U1D        1\n",
       "Name: rfa_14, Length: 95, dtype: int64"
      ]
     },
     "metadata": {},
     "output_type": "display_data"
    },
    {
     "data": {
      "text/plain": [
       "       20417\n",
       "A1E     7080\n",
       "A1F     6445\n",
       "A1D     3322\n",
       "A1G     3053\n",
       "       ...  \n",
       "U1C        2\n",
       "S2A        1\n",
       "I2C        1\n",
       "P1C        1\n",
       "I3C        1\n",
       "Name: rfa_16, Length: 123, dtype: int64"
      ]
     },
     "metadata": {},
     "output_type": "display_data"
    },
    {
     "data": {
      "text/plain": [
       "       27650\n",
       "A1E     6773\n",
       "A1F     5328\n",
       "A1D     3645\n",
       "A1G     2305\n",
       "       ...  \n",
       "A4B        2\n",
       "S4A        1\n",
       "A3B        1\n",
       "S2A        1\n",
       "A4A        1\n",
       "Name: rfa_17, Length: 118, dtype: int64"
      ]
     },
     "metadata": {},
     "output_type": "display_data"
    },
    {
     "data": {
      "text/plain": [
       "       21263\n",
       "A1E     7186\n",
       "A1F     5510\n",
       "A1D     3941\n",
       "A1G     2408\n",
       "       ...  \n",
       "N3B        1\n",
       "A4A        1\n",
       "S3A        1\n",
       "P1B        1\n",
       "S2A        1\n",
       "Name: rfa_18, Length: 122, dtype: int64"
      ]
     },
     "metadata": {},
     "output_type": "display_data"
    },
    {
     "data": {
      "text/plain": [
       "       24492\n",
       "A1E     7248\n",
       "A1F     5347\n",
       "A1D     4156\n",
       "A1G     2330\n",
       "       ...  \n",
       "A4B        3\n",
       "P1B        2\n",
       "S4A        2\n",
       "L4C        1\n",
       "A4A        1\n",
       "Name: rfa_19, Length: 108, dtype: int64"
      ]
     },
     "metadata": {},
     "output_type": "display_data"
    },
    {
     "data": {
      "text/plain": [
       "       35212\n",
       "A1E     6729\n",
       "A1F     5127\n",
       "A1D     3607\n",
       "A1G     2245\n",
       "       ...  \n",
       "S4A        2\n",
       "P1B        2\n",
       "S3A        2\n",
       "A4B        2\n",
       "A4A        1\n",
       "Name: rfa_21, Length: 102, dtype: int64"
      ]
     },
     "metadata": {},
     "output_type": "display_data"
    },
    {
     "data": {
      "text/plain": [
       "       25648\n",
       "A1E     7233\n",
       "A1F     5324\n",
       "A1D     4113\n",
       "A1G     2318\n",
       "       ...  \n",
       "U1C        2\n",
       "L4C        1\n",
       "A4A        1\n",
       "A1A        1\n",
       "F1B        1\n",
       "Name: rfa_22, Length: 117, dtype: int64"
      ]
     },
     "metadata": {},
     "output_type": "display_data"
    },
    {
     "data": {
      "text/plain": [
       "       56274\n",
       "A1F     4607\n",
       "A1E     4348\n",
       "A1G     2401\n",
       "S2E     2243\n",
       "       ...  \n",
       "I4F        1\n",
       "L1D        1\n",
       "U1C        1\n",
       "U1F        1\n",
       "2D         1\n",
       "Name: rfa_23, Length: 87, dtype: int64"
      ]
     },
     "metadata": {},
     "output_type": "display_data"
    },
    {
     "data": {
      "text/plain": [
       "       36973\n",
       "A1E     7227\n",
       "A1F     5032\n",
       "A1D     4563\n",
       "F1D     3315\n",
       "       ...  \n",
       "A1C        2\n",
       "U1C        2\n",
       "N1C        2\n",
       "L4C        1\n",
       "U1G        1\n",
       "Name: rfa_24, Length: 97, dtype: int64"
      ]
     },
     "metadata": {},
     "output_type": "display_data"
    },
    {
     "data": {
      "text/plain": [
       "13     2718\n",
       "14     2513\n",
       "15     1920\n",
       "24     1824\n",
       "25     1756\n",
       "       ... \n",
       "167       1\n",
       "144       1\n",
       "169       1\n",
       "177       1\n",
       "166       1\n",
       "Name: numprom, Length: 165, dtype: int64"
      ]
     },
     "metadata": {},
     "output_type": "display_data"
    },
    {
     "data": {
      "text/plain": [
       "15.00    3575\n",
       "10.00    3387\n",
       "20.00    3119\n",
       "25.00    1838\n",
       "5.00     1716\n",
       "         ... \n",
       "5.40        1\n",
       "12.94       1\n",
       "21.80       1\n",
       "30.91       1\n",
       "31.65       1\n",
       "Name: ramnt_8, Length: 108, dtype: int64"
      ]
     },
     "metadata": {},
     "output_type": "display_data"
    },
    {
     "data": {
      "text/plain": [
       "10.00     2797\n",
       "15.00     2432\n",
       "20.00     2063\n",
       "5.00      1421\n",
       "25.00     1105\n",
       "          ... \n",
       "250.00       1\n",
       "16.95        1\n",
       "97.00        1\n",
       "450.00       1\n",
       "6.91         1\n",
       "Name: ramnt_9, Length: 90, dtype: int64"
      ]
     },
     "metadata": {},
     "output_type": "display_data"
    },
    {
     "data": {
      "text/plain": [
       "10.00    1789\n",
       "15.00    1359\n",
       "20.00    1189\n",
       "5.00      968\n",
       "25.00     772\n",
       "         ... \n",
       "66.00       1\n",
       "97.00       1\n",
       "61.00       1\n",
       "25.28       1\n",
       "80.00       1\n",
       "Name: ramnt_10, Length: 92, dtype: int64"
      ]
     },
     "metadata": {},
     "output_type": "display_data"
    },
    {
     "data": {
      "text/plain": [
       "10.00    4351\n",
       "15.00    3728\n",
       "20.00    3180\n",
       "5.00     2426\n",
       "25.00    1886\n",
       "         ... \n",
       "54.00       1\n",
       "9.97        1\n",
       "9.49        1\n",
       "47.00       1\n",
       "38.65       1\n",
       "Name: ramnt_12, Length: 114, dtype: int64"
      ]
     },
     "metadata": {},
     "output_type": "display_data"
    },
    {
     "data": {
      "text/plain": [
       "10.00    4510\n",
       "5.00     3453\n",
       "15.00    3035\n",
       "20.00    2525\n",
       "25.00    1509\n",
       "         ... \n",
       "14.90       1\n",
       "4.01        1\n",
       "51.00       1\n",
       "76.00       1\n",
       "10.01       1\n",
       "Name: ramnt_14, Length: 102, dtype: int64"
      ]
     },
     "metadata": {},
     "output_type": "display_data"
    },
    {
     "data": {
      "text/plain": [
       "10.00     4332\n",
       "15.00     3165\n",
       "5.00      2915\n",
       "20.00     2663\n",
       "12.00     1561\n",
       "          ... \n",
       "500.00       1\n",
       "8.66         1\n",
       "400.00       1\n",
       "61.00        1\n",
       "0.50         1\n",
       "Name: ramnt_16, Length: 109, dtype: int64"
      ]
     },
     "metadata": {},
     "output_type": "display_data"
    },
    {
     "data": {
      "text/plain": [
       "10.00     4251\n",
       "5.00      3343\n",
       "15.00     1792\n",
       "20.00     1513\n",
       "7.00       968\n",
       "          ... \n",
       "58.00        1\n",
       "33.25        1\n",
       "8.99         1\n",
       "170.00       1\n",
       "80.00        1\n",
       "Name: ramnt_18, Length: 105, dtype: int64"
      ]
     },
     "metadata": {},
     "output_type": "display_data"
    },
    {
     "data": {
      "text/plain": [
       "10.00    4384\n",
       "5.00     3116\n",
       "15.00    1854\n",
       "20.00    1512\n",
       "7.00     1117\n",
       "         ... \n",
       "88.00       1\n",
       "66.00       1\n",
       "20.50       1\n",
       "28.42       1\n",
       "83.00       1\n",
       "Name: ramnt_22, Length: 92, dtype: int64"
      ]
     },
     "metadata": {},
     "output_type": "display_data"
    },
    {
     "data": {
      "text/plain": [
       "20.00      4206\n",
       "25.00      3696\n",
       "15.00      3395\n",
       "30.00      2573\n",
       "40.00      1595\n",
       "           ... \n",
       "24.95         1\n",
       "423.06        1\n",
       "787.00        1\n",
       "347.25        1\n",
       "1174.00       1\n",
       "Name: ramntall, Length: 2094, dtype: int64"
      ]
     },
     "metadata": {},
     "output_type": "display_data"
    },
    {
     "data": {
      "text/plain": [
       "1      10008\n",
       "2       7722\n",
       "3       7189\n",
       "4       7019\n",
       "5       6293\n",
       "       ...  \n",
       "85         1\n",
       "86         1\n",
       "237        1\n",
       "87         1\n",
       "116        1\n",
       "Name: ngiftall, Length: 89, dtype: int64"
      ]
     },
     "metadata": {},
     "output_type": "display_data"
    },
    {
     "data": {
      "text/plain": [
       "5.00     34559\n",
       "3.00     17763\n",
       "10.00    14679\n",
       "15.00     5735\n",
       "20.00     5537\n",
       "         ...  \n",
       "99.00        1\n",
       "8.50         1\n",
       "22.67        1\n",
       "3.03         1\n",
       "5.07         1\n",
       "Name: minramnt, Length: 191, dtype: int64"
      ]
     },
     "metadata": {},
     "output_type": "display_data"
    },
    {
     "data": {
      "text/plain": [
       "9602    3041\n",
       "9601    3021\n",
       "9512    2359\n",
       "9509    2336\n",
       "9510    2325\n",
       "        ... \n",
       "8211       1\n",
       "8604       1\n",
       "8306       1\n",
       "8410       1\n",
       "8409       1\n",
       "Name: minrdate, Length: 146, dtype: int64"
      ]
     },
     "metadata": {},
     "output_type": "display_data"
    },
    {
     "data": {
      "text/plain": [
       "15.00     18414\n",
       "20.00     18300\n",
       "25.00     12270\n",
       "10.00      9405\n",
       "16.00      3808\n",
       "          ...  \n",
       "16.59         1\n",
       "24.95         1\n",
       "63.33         1\n",
       "177.00        1\n",
       "10.01         1\n",
       "Name: maxramnt, Length: 275, dtype: int64"
      ]
     },
     "metadata": {},
     "output_type": "display_data"
    },
    {
     "data": {
      "text/plain": [
       "9512    10563\n",
       "9601     6812\n",
       "9509     6120\n",
       "9602     5875\n",
       "9504     5218\n",
       "        ...  \n",
       "8601        1\n",
       "8410        1\n",
       "7910        1\n",
       "8501        1\n",
       "8602        1\n",
       "Name: maxrdate, Length: 150, dtype: int64"
      ]
     },
     "metadata": {},
     "output_type": "display_data"
    },
    {
     "data": {
      "text/plain": [
       "15.00     17776\n",
       "20.00     15838\n",
       "10.00     14256\n",
       "25.00     10149\n",
       "5.00       4949\n",
       "          ...  \n",
       "137.00        1\n",
       "119.47        1\n",
       "20.50         1\n",
       "450.00        1\n",
       "15.45         1\n",
       "Name: lastgift, Length: 231, dtype: int64"
      ]
     },
     "metadata": {},
     "output_type": "display_data"
    },
    {
     "data": {
      "text/plain": [
       "9501    2957\n",
       "9401    2770\n",
       "9310    2646\n",
       "9410    2451\n",
       "9601    2406\n",
       "        ... \n",
       "8303       1\n",
       "8305       1\n",
       "8304       1\n",
       "7408       1\n",
       "7903       1\n",
       "Name: fistdate, Length: 177, dtype: int64"
      ]
     },
     "metadata": {},
     "output_type": "display_data"
    },
    {
     "data": {
      "text/plain": [
       "9504.0    2253\n",
       "9412.0    1970\n",
       "8703.0    1959\n",
       "9512.0    1870\n",
       "8612.0    1688\n",
       "          ... \n",
       "8303.0       1\n",
       "8306.0       1\n",
       "7705.0       1\n",
       "8011.0       1\n",
       "8409.0       1\n",
       "Name: nextdate, Length: 188, dtype: int64"
      ]
     },
     "metadata": {},
     "output_type": "display_data"
    },
    {
     "data": {
      "text/plain": [
       "15.000000    6020\n",
       "20.000000    4566\n",
       "25.000000    2659\n",
       "10.000000    2227\n",
       "12.500000    1800\n",
       "             ... \n",
       "5.959459        1\n",
       "8.836735        1\n",
       "10.604167       1\n",
       "7.612903        1\n",
       "5.518889        1\n",
       "Name: avggift, Length: 7713, dtype: int64"
      ]
     },
     "metadata": {},
     "output_type": "display_data"
    },
    {
     "data": {
      "text/plain": [
       "131072    1\n",
       "148834    1\n",
       "134507    1\n",
       "132458    1\n",
       "10278     1\n",
       "         ..\n",
       "190984    1\n",
       "168455    1\n",
       "164357    1\n",
       "51951     1\n",
       "2047      1\n",
       "Name: controln, Length: 95412, dtype: int64"
      ]
     },
     "metadata": {},
     "output_type": "display_data"
    },
    {
     "data": {
      "text/plain": [
       "165"
      ]
     },
     "execution_count": 16,
     "metadata": {},
     "output_type": "execute_result"
    }
   ],
   "source": [
    "drop_cols = []\n",
    "\n",
    "for col in data:\n",
    "    if len(data[col].unique()) > 85:\n",
    "        display(data[col].value_counts())\n",
    "        drop_cols.append(col)\n",
    "        \n",
    "len(drop_cols)"
   ]
  },
  {
   "cell_type": "markdown",
   "id": "7bbcf161",
   "metadata": {},
   "source": [
    "### 5. Reduce the number of categories in the column GENDER. The column should only have either \"M\" for males, \"F\" for females, and \"other\" for all the rest\n",
    "\n",
    "Note that there are a few null values in the column. We will first replace those null values using the code below:\n",
    "\n",
    "```python\n",
    "print(categorical['GENDER'].value_counts())\n",
    "categorical['GENDER'] = categorical['GENDER'].fillna('F')\n",
    "```"
   ]
  },
  {
   "cell_type": "code",
   "execution_count": 17,
   "id": "b583feaa",
   "metadata": {},
   "outputs": [
    {
     "data": {
      "text/plain": [
       "F    51277\n",
       "M    39094\n",
       "      2957\n",
       "U     1715\n",
       "J      365\n",
       "A        2\n",
       "C        2\n",
       "Name: gender, dtype: int64"
      ]
     },
     "execution_count": 17,
     "metadata": {},
     "output_type": "execute_result"
    }
   ],
   "source": [
    "# Checking the data in gender column\n",
    "data['gender'].value_counts()"
   ]
  },
  {
   "cell_type": "code",
   "execution_count": 23,
   "id": "86f13153",
   "metadata": {},
   "outputs": [
    {
     "name": "stdout",
     "output_type": "stream",
     "text": [
      "F    51277\n",
      "M    39094\n",
      "      2957\n",
      "U     1715\n",
      "J      365\n",
      "A        2\n",
      "C        2\n",
      "Name: gender, dtype: int64\n"
     ]
    }
   ],
   "source": [
    "print(categorical['gender'].value_counts())\n",
    "categorical['gender'] = categorical['gender'].fillna('F')"
   ]
  },
  {
   "cell_type": "code",
   "execution_count": 25,
   "id": "b70fd870",
   "metadata": {},
   "outputs": [
    {
     "data": {
      "text/plain": [
       "F    51277\n",
       "M    39094\n",
       "O     5041\n",
       "Name: gender, dtype: int64"
      ]
     },
     "execution_count": 25,
     "metadata": {},
     "output_type": "execute_result"
    }
   ],
   "source": [
    "# getting UJAC as other gender and keeping M F\n",
    "data['gender'] = data['gender'].apply(lambda x: 'M' if str(x).lower().startswith('m')\n",
    "                                                  else 'F' if str(x).lower().startswith('f')\n",
    "                                                  else 'O')\n",
    "data['gender'] = data['gender'].fillna('O')\n",
    "\n",
    "data.gender.value_counts()"
   ]
  },
  {
   "cell_type": "code",
   "execution_count": null,
   "id": "bc6e9bc7",
   "metadata": {},
   "outputs": [],
   "source": []
  }
 ],
 "metadata": {
  "kernelspec": {
   "display_name": "Python 3",
   "language": "python",
   "name": "python3"
  },
  "language_info": {
   "codemirror_mode": {
    "name": "ipython",
    "version": 3
   },
   "file_extension": ".py",
   "mimetype": "text/x-python",
   "name": "python",
   "nbconvert_exporter": "python",
   "pygments_lexer": "ipython3",
   "version": "3.8.8"
  },
  "toc": {
   "base_numbering": 1,
   "nav_menu": {},
   "number_sections": true,
   "sideBar": true,
   "skip_h1_title": true,
   "title_cell": "Table of Contents",
   "title_sidebar": "Contents",
   "toc_cell": false,
   "toc_position": {},
   "toc_section_display": true,
   "toc_window_display": false
  }
 },
 "nbformat": 4,
 "nbformat_minor": 5
}
