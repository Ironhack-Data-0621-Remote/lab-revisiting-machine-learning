{
 "cells": [
  {
   "cell_type": "markdown",
   "id": "bf32ae3b",
   "metadata": {},
   "source": [
    "# Lab | Revisiting Machine Learning Case Study"
   ]
  },
  {
   "cell_type": "markdown",
   "id": "73df37d0",
   "metadata": {},
   "source": [
    "In this lab, you will use learningSet.csv file which you already have cloned in today's activities."
   ]
  },
  {
   "cell_type": "markdown",
   "id": "3821643c",
   "metadata": {},
   "source": [
    "## Import libraries"
   ]
  },
  {
   "cell_type": "code",
   "execution_count": 53,
   "id": "5028ed86",
   "metadata": {},
   "outputs": [],
   "source": [
    "import pandas as pd\n",
    "import numpy as np\n",
    "import datetime\n",
    "import warnings\n",
    "import matplotlib.pyplot as plt\n",
    "warnings.filterwarnings('ignore')"
   ]
  },
  {
   "cell_type": "markdown",
   "id": "d324c469",
   "metadata": {},
   "source": [
    "## Import data set"
   ]
  },
  {
   "cell_type": "code",
   "execution_count": 54,
   "id": "c7b80e9b",
   "metadata": {},
   "outputs": [],
   "source": [
    "#import data set\n",
    "data = pd.read_csv('learningSet.csv')"
   ]
  },
  {
   "cell_type": "markdown",
   "id": "5bbb5252",
   "metadata": {},
   "source": [
    "## Check for null values in all the columns"
   ]
  },
  {
   "cell_type": "code",
   "execution_count": 55,
   "id": "dbe69e8b",
   "metadata": {},
   "outputs": [],
   "source": [
    "nulls = data.isna().sum().sort_values(ascending=False)/len(data)*100\n",
    "nulls = pd.DataFrame(nulls).reset_index()\n",
    "nulls.columns = ['column_name', 'percent_nullvalues']"
   ]
  },
  {
   "cell_type": "code",
   "execution_count": 56,
   "id": "d8780301",
   "metadata": {},
   "outputs": [
    {
     "data": {
      "text/html": [
       "<div>\n",
       "<style scoped>\n",
       "    .dataframe tbody tr th:only-of-type {\n",
       "        vertical-align: middle;\n",
       "    }\n",
       "\n",
       "    .dataframe tbody tr th {\n",
       "        vertical-align: top;\n",
       "    }\n",
       "\n",
       "    .dataframe thead th {\n",
       "        text-align: right;\n",
       "    }\n",
       "</style>\n",
       "<table border=\"1\" class=\"dataframe\">\n",
       "  <thead>\n",
       "    <tr style=\"text-align: right;\">\n",
       "      <th></th>\n",
       "      <th>column_name</th>\n",
       "      <th>percent_nullvalues</th>\n",
       "    </tr>\n",
       "  </thead>\n",
       "  <tbody>\n",
       "    <tr>\n",
       "      <th>0</th>\n",
       "      <td>RDATE_5</td>\n",
       "      <td>99.990567</td>\n",
       "    </tr>\n",
       "    <tr>\n",
       "      <th>1</th>\n",
       "      <td>RAMNT_5</td>\n",
       "      <td>99.990567</td>\n",
       "    </tr>\n",
       "    <tr>\n",
       "      <th>2</th>\n",
       "      <td>RDATE_3</td>\n",
       "      <td>99.746363</td>\n",
       "    </tr>\n",
       "    <tr>\n",
       "      <th>3</th>\n",
       "      <td>RAMNT_3</td>\n",
       "      <td>99.746363</td>\n",
       "    </tr>\n",
       "    <tr>\n",
       "      <th>4</th>\n",
       "      <td>RDATE_4</td>\n",
       "      <td>99.705488</td>\n",
       "    </tr>\n",
       "    <tr>\n",
       "      <th>5</th>\n",
       "      <td>RAMNT_4</td>\n",
       "      <td>99.705488</td>\n",
       "    </tr>\n",
       "    <tr>\n",
       "      <th>6</th>\n",
       "      <td>RAMNT_6</td>\n",
       "      <td>99.186685</td>\n",
       "    </tr>\n",
       "    <tr>\n",
       "      <th>7</th>\n",
       "      <td>RDATE_6</td>\n",
       "      <td>99.186685</td>\n",
       "    </tr>\n",
       "    <tr>\n",
       "      <th>8</th>\n",
       "      <td>RAMNT_15</td>\n",
       "      <td>92.388798</td>\n",
       "    </tr>\n",
       "    <tr>\n",
       "      <th>9</th>\n",
       "      <td>RDATE_15</td>\n",
       "      <td>92.388798</td>\n",
       "    </tr>\n",
       "  </tbody>\n",
       "</table>\n",
       "</div>"
      ],
      "text/plain": [
       "  column_name  percent_nullvalues\n",
       "0     RDATE_5           99.990567\n",
       "1     RAMNT_5           99.990567\n",
       "2     RDATE_3           99.746363\n",
       "3     RAMNT_3           99.746363\n",
       "4     RDATE_4           99.705488\n",
       "5     RAMNT_4           99.705488\n",
       "6     RAMNT_6           99.186685\n",
       "7     RDATE_6           99.186685\n",
       "8    RAMNT_15           92.388798\n",
       "9    RDATE_15           92.388798"
      ]
     },
     "execution_count": 56,
     "metadata": {},
     "output_type": "execute_result"
    }
   ],
   "source": [
    "nulls[:10]"
   ]
  },
  {
   "cell_type": "markdown",
   "id": "6febccdc",
   "metadata": {},
   "source": [
    "## Exclude the following variables by looking at the definitions. Create a new empty list called drop_list. We will append this list and then drop all the columns in this list later:\n",
    "\n",
    "- `OSOURCE` - symbol definitions not provided, too many categories\n",
    "- `ZIP CODE` - we are including state already\n"
   ]
  },
  {
   "cell_type": "code",
   "execution_count": 57,
   "id": "3a07b75a",
   "metadata": {},
   "outputs": [],
   "source": [
    "drop_list = ['OSOURCE','ZIP']"
   ]
  },
  {
   "cell_type": "markdown",
   "id": "6a2470e4",
   "metadata": {},
   "source": [
    "## Identify columns that over 85% missing values"
   ]
  },
  {
   "cell_type": "code",
   "execution_count": 58,
   "id": "2b6f01b6",
   "metadata": {},
   "outputs": [],
   "source": [
    "columns_above_85 = nulls[nulls['percent_nullvalues'] > 85]"
   ]
  },
  {
   "cell_type": "code",
   "execution_count": 59,
   "id": "894d208b",
   "metadata": {},
   "outputs": [],
   "source": [
    "# overwrites drop_list\n",
    "#drop_list2 = columns_above_85['column_name'].tolist()"
   ]
  },
  {
   "cell_type": "code",
   "execution_count": 60,
   "id": "f9bcf813",
   "metadata": {},
   "outputs": [],
   "source": [
    "#using for loop\n",
    "for i in columns_above_85['column_name']:\n",
    "    drop_list.append(i)"
   ]
  },
  {
   "cell_type": "code",
   "execution_count": 61,
   "id": "10784548",
   "metadata": {},
   "outputs": [
    {
     "data": {
      "text/plain": [
       "['OSOURCE',\n",
       " 'ZIP',\n",
       " 'RDATE_5',\n",
       " 'RAMNT_5',\n",
       " 'RDATE_3',\n",
       " 'RAMNT_3',\n",
       " 'RDATE_4',\n",
       " 'RAMNT_4',\n",
       " 'RAMNT_6',\n",
       " 'RDATE_6',\n",
       " 'RAMNT_15',\n",
       " 'RDATE_15',\n",
       " 'RDATE_23',\n",
       " 'RAMNT_23',\n",
       " 'RDATE_20',\n",
       " 'RAMNT_20',\n",
       " 'RAMNT_7',\n",
       " 'RDATE_7',\n",
       " 'RAMNT_17',\n",
       " 'RDATE_17',\n",
       " 'RDATE_21',\n",
       " 'RAMNT_21',\n",
       " 'RAMNT_10',\n",
       " 'RDATE_10',\n",
       " 'RDATE_13',\n",
       " 'RAMNT_13',\n",
       " 'NUMCHLD']"
      ]
     },
     "execution_count": 61,
     "metadata": {},
     "output_type": "execute_result"
    }
   ],
   "source": [
    "drop_list"
   ]
  },
  {
   "cell_type": "markdown",
   "id": "70865946",
   "metadata": {},
   "source": [
    "## Remove those columns from the dataframe"
   ]
  },
  {
   "cell_type": "code",
   "execution_count": 62,
   "id": "ca6c4d91",
   "metadata": {},
   "outputs": [],
   "source": [
    "data = data.drop(drop_list, axis=1)"
   ]
  },
  {
   "cell_type": "code",
   "execution_count": 63,
   "id": "9c5eb392",
   "metadata": {},
   "outputs": [
    {
     "data": {
      "text/plain": [
       "Index(['ODATEDW', 'TCODE', 'STATE', 'MAILCODE', 'PVASTATE', 'DOB', 'NOEXCH',\n",
       "       'RECINHSE', 'RECP3', 'RECPGVG',\n",
       "       ...\n",
       "       'TARGET_D', 'HPHONE_D', 'RFA_2R', 'RFA_2F', 'RFA_2A', 'MDMAUD_R',\n",
       "       'MDMAUD_F', 'MDMAUD_A', 'CLUSTER2', 'GEOCODE2'],\n",
       "      dtype='object', length=454)"
      ]
     },
     "execution_count": 63,
     "metadata": {},
     "output_type": "execute_result"
    }
   ],
   "source": [
    "data.columns"
   ]
  },
  {
   "cell_type": "markdown",
   "id": "7bbcf161",
   "metadata": {},
   "source": [
    "## Reduce the number of categories in the column GENDER. The column should only have either \"M\" for males, \"F\" for females, and \"other\" for all the rest\n",
    "\n",
    "Note that there are a few null values in the column. We will first replace those null values using the code below:\n",
    "\n",
    "```python\n",
    "print(categorical['GENDER'].value_counts())\n",
    "categorical['GENDER'] = categorical['GENDER'].fillna('F')\n",
    "```"
   ]
  },
  {
   "cell_type": "code",
   "execution_count": 64,
   "id": "b583feaa",
   "metadata": {},
   "outputs": [
    {
     "name": "stdout",
     "output_type": "stream",
     "text": [
      "F    51277\n",
      "M    39094\n",
      "      2957\n",
      "U     1715\n",
      "J      365\n",
      "A        2\n",
      "C        2\n",
      "Name: GENDER, dtype: int64\n"
     ]
    }
   ],
   "source": [
    "print(data['GENDER'].value_counts())"
   ]
  },
  {
   "cell_type": "code",
   "execution_count": 65,
   "id": "8b27b385",
   "metadata": {},
   "outputs": [],
   "source": [
    "data['GENDER'] = data['GENDER'].fillna('F')"
   ]
  },
  {
   "cell_type": "code",
   "execution_count": 66,
   "id": "1b0992f5",
   "metadata": {},
   "outputs": [
    {
     "data": {
      "text/plain": [
       "F        51277\n",
       "M        39094\n",
       "other     5041\n",
       "Name: GENDER, dtype: int64"
      ]
     },
     "execution_count": 66,
     "metadata": {},
     "output_type": "execute_result"
    }
   ],
   "source": [
    "#1. option: Lambda\n",
    "data['GENDER'] = data['GENDER'].apply(lambda x: x if x in ['M', 'F'] else 'other')\n",
    "data['GENDER'].value_counts()"
   ]
  },
  {
   "cell_type": "code",
   "execution_count": 67,
   "id": "2008e0fd",
   "metadata": {},
   "outputs": [],
   "source": [
    "#2. option for loop: takes way longer\n",
    "for i in range(0, len(data)):\n",
    "    if data['GENDER'][i] not in ['F', 'M']:\n",
    "        data['GENDER'][i] = 'other'"
   ]
  },
  {
   "cell_type": "code",
   "execution_count": null,
   "id": "1d77125d",
   "metadata": {},
   "outputs": [],
   "source": []
  },
  {
   "cell_type": "code",
   "execution_count": null,
   "id": "9a788d75",
   "metadata": {},
   "outputs": [],
   "source": []
  }
 ],
 "metadata": {
  "kernelspec": {
   "display_name": "Python 3",
   "language": "python",
   "name": "python3"
  },
  "language_info": {
   "codemirror_mode": {
    "name": "ipython",
    "version": 3
   },
   "file_extension": ".py",
   "mimetype": "text/x-python",
   "name": "python",
   "nbconvert_exporter": "python",
   "pygments_lexer": "ipython3",
   "version": "3.9.4"
  },
  "toc": {
   "base_numbering": 1,
   "nav_menu": {},
   "number_sections": true,
   "sideBar": true,
   "skip_h1_title": true,
   "title_cell": "Table of Contents",
   "title_sidebar": "Contents",
   "toc_cell": false,
   "toc_position": {},
   "toc_section_display": true,
   "toc_window_display": false
  }
 },
 "nbformat": 4,
 "nbformat_minor": 5
}
