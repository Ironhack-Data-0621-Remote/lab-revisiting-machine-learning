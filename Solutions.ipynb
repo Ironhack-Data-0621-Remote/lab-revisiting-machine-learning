{
 "cells": [
  {
   "cell_type": "markdown",
   "id": "bf32ae3b",
   "metadata": {},
   "source": [
    "# Lab | Revisiting Machine Learning Case Study"
   ]
  },
  {
   "cell_type": "code",
   "execution_count": 1,
   "id": "dbd37543-6984-44c6-9ef0-1c2e73f026e2",
   "metadata": {},
   "outputs": [],
   "source": [
    "import pandas as pd\n",
    "import numpy as np\n",
    "import datetime\n",
    "import warnings\n",
    "import matplotlib.pyplot as plt\n",
    "import seaborn as sns\n",
    "import scipy.stats as stats\n",
    "\n",
    "warnings.filterwarnings('ignore')"
   ]
  },
  {
   "cell_type": "markdown",
   "id": "73df37d0",
   "metadata": {},
   "source": [
    "In this lab, you will use learningSet.csv file which you already have cloned in today's activities."
   ]
  },
  {
   "cell_type": "code",
   "execution_count": 2,
   "id": "da5c6862-cbf0-4d9e-b3bb-5cd833947d92",
   "metadata": {},
   "outputs": [],
   "source": [
    "data = pd.read_csv('learningSet.csv')"
   ]
  },
  {
   "cell_type": "code",
   "execution_count": 17,
   "id": "8b9e0622-e219-4489-8967-63eb30f05f96",
   "metadata": {},
   "outputs": [
    {
     "data": {
      "text/plain": [
       "(95412, 481)"
      ]
     },
     "execution_count": 17,
     "metadata": {},
     "output_type": "execute_result"
    }
   ],
   "source": [
    "data.shape"
   ]
  },
  {
   "cell_type": "markdown",
   "id": "5bbb5252",
   "metadata": {},
   "source": [
    "### 1. Check for null values in all the columns"
   ]
  },
  {
   "cell_type": "code",
   "execution_count": 3,
   "id": "dbe69e8b",
   "metadata": {},
   "outputs": [],
   "source": [
    "nulls = data.isna().sum().sort_values(ascending=False)/len(data)*100\n",
    "nulls = pd.DataFrame(nulls).reset_index()\n",
    "nulls.columns = ['column_name', 'nulls_percent']"
   ]
  },
  {
   "cell_type": "code",
   "execution_count": 4,
   "id": "b773d476-0f76-4840-8b2c-919cac10d1d6",
   "metadata": {},
   "outputs": [
    {
     "data": {
      "text/html": [
       "<div>\n",
       "<style scoped>\n",
       "    .dataframe tbody tr th:only-of-type {\n",
       "        vertical-align: middle;\n",
       "    }\n",
       "\n",
       "    .dataframe tbody tr th {\n",
       "        vertical-align: top;\n",
       "    }\n",
       "\n",
       "    .dataframe thead th {\n",
       "        text-align: right;\n",
       "    }\n",
       "</style>\n",
       "<table border=\"1\" class=\"dataframe\">\n",
       "  <thead>\n",
       "    <tr style=\"text-align: right;\">\n",
       "      <th></th>\n",
       "      <th>column_name</th>\n",
       "      <th>nulls_percent</th>\n",
       "    </tr>\n",
       "  </thead>\n",
       "  <tbody>\n",
       "    <tr>\n",
       "      <th>0</th>\n",
       "      <td>RDATE_5</td>\n",
       "      <td>99.990567</td>\n",
       "    </tr>\n",
       "    <tr>\n",
       "      <th>1</th>\n",
       "      <td>RAMNT_5</td>\n",
       "      <td>99.990567</td>\n",
       "    </tr>\n",
       "    <tr>\n",
       "      <th>2</th>\n",
       "      <td>RDATE_3</td>\n",
       "      <td>99.746363</td>\n",
       "    </tr>\n",
       "    <tr>\n",
       "      <th>3</th>\n",
       "      <td>RAMNT_3</td>\n",
       "      <td>99.746363</td>\n",
       "    </tr>\n",
       "    <tr>\n",
       "      <th>4</th>\n",
       "      <td>RDATE_4</td>\n",
       "      <td>99.705488</td>\n",
       "    </tr>\n",
       "    <tr>\n",
       "      <th>5</th>\n",
       "      <td>RAMNT_4</td>\n",
       "      <td>99.705488</td>\n",
       "    </tr>\n",
       "    <tr>\n",
       "      <th>6</th>\n",
       "      <td>RAMNT_6</td>\n",
       "      <td>99.186685</td>\n",
       "    </tr>\n",
       "    <tr>\n",
       "      <th>7</th>\n",
       "      <td>RDATE_6</td>\n",
       "      <td>99.186685</td>\n",
       "    </tr>\n",
       "    <tr>\n",
       "      <th>8</th>\n",
       "      <td>RAMNT_15</td>\n",
       "      <td>92.388798</td>\n",
       "    </tr>\n",
       "    <tr>\n",
       "      <th>9</th>\n",
       "      <td>RDATE_15</td>\n",
       "      <td>92.388798</td>\n",
       "    </tr>\n",
       "  </tbody>\n",
       "</table>\n",
       "</div>"
      ],
      "text/plain": [
       "  column_name  nulls_percent\n",
       "0     RDATE_5      99.990567\n",
       "1     RAMNT_5      99.990567\n",
       "2     RDATE_3      99.746363\n",
       "3     RAMNT_3      99.746363\n",
       "4     RDATE_4      99.705488\n",
       "5     RAMNT_4      99.705488\n",
       "6     RAMNT_6      99.186685\n",
       "7     RDATE_6      99.186685\n",
       "8    RAMNT_15      92.388798\n",
       "9    RDATE_15      92.388798"
      ]
     },
     "execution_count": 4,
     "metadata": {},
     "output_type": "execute_result"
    }
   ],
   "source": [
    "nulls[:10]"
   ]
  },
  {
   "cell_type": "markdown",
   "id": "6febccdc",
   "metadata": {},
   "source": [
    "### 2. Exclude the following variables by looking at the definitions. Create a new empty list called drop_list. We will append this list and then drop all the columns in this list later:\n",
    "\n",
    "- `OSOURCE` - symbol definitions not provided, too many categories\n",
    "- `ZIP CODE` - we are including state already\n"
   ]
  },
  {
   "cell_type": "code",
   "execution_count": 10,
   "id": "3a07b75a",
   "metadata": {},
   "outputs": [],
   "source": [
    "drop_list = ['OSOURCE','ZIP']"
   ]
  },
  {
   "cell_type": "markdown",
   "id": "6a2470e4",
   "metadata": {},
   "source": [
    "### 3. Identify columns that over 85% missing values"
   ]
  },
  {
   "cell_type": "code",
   "execution_count": 11,
   "id": "e510c4f6-17d2-4319-adf2-0f604e94b0ad",
   "metadata": {},
   "outputs": [],
   "source": [
    "columns_above_threshold = nulls[nulls['nulls_percent'] > 15]"
   ]
  },
  {
   "cell_type": "code",
   "execution_count": 13,
   "id": "2b6f01b6",
   "metadata": {},
   "outputs": [],
   "source": [
    "drop_columns = columns_above_threshold['column_name'].tolist()"
   ]
  },
  {
   "cell_type": "code",
   "execution_count": 16,
   "id": "2f80f0ea-c47c-4bcf-8fa7-cb920f9e015f",
   "metadata": {},
   "outputs": [],
   "source": [
    "drop_list_total = drop_list + drop_columns"
   ]
  },
  {
   "cell_type": "markdown",
   "id": "70865946",
   "metadata": {},
   "source": [
    "### 4. Remove those columns from the dataframe"
   ]
  },
  {
   "cell_type": "code",
   "execution_count": 18,
   "id": "ca6c4d91",
   "metadata": {},
   "outputs": [],
   "source": [
    "data = data.drop(drop_list_total, axis=1)"
   ]
  },
  {
   "cell_type": "code",
   "execution_count": 19,
   "id": "b3558743-05f7-445d-b910-f24b717460a3",
   "metadata": {},
   "outputs": [
    {
     "data": {
      "text/plain": [
       "(95412, 402)"
      ]
     },
     "execution_count": 19,
     "metadata": {},
     "output_type": "execute_result"
    }
   ],
   "source": [
    "data.shape"
   ]
  },
  {
   "cell_type": "markdown",
   "id": "7bbcf161",
   "metadata": {},
   "source": [
    "### 5. Reduce the number of categories in the column GENDER. The column should only have either \"M\" for males, \"F\" for females, and \"other\" for all the rest\n",
    "\n",
    "Note that there are a few null values in the column. We will first replace those null values using the code below:\n",
    "\n",
    "```python\n",
    "print(categorical['GENDER'].value_counts())\n",
    "categorical['GENDER'] = categorical['GENDER'].fillna('F')\n",
    "```"
   ]
  },
  {
   "cell_type": "code",
   "execution_count": 21,
   "id": "b583feaa",
   "metadata": {},
   "outputs": [
    {
     "name": "stdout",
     "output_type": "stream",
     "text": [
      "F    51277\n",
      "M    39094\n",
      "      2957\n",
      "U     1715\n",
      "J      365\n",
      "C        2\n",
      "A        2\n",
      "Name: GENDER, dtype: int64\n"
     ]
    }
   ],
   "source": [
    "print(data['GENDER'].value_counts())"
   ]
  },
  {
   "cell_type": "code",
   "execution_count": 22,
   "id": "4a005031-4198-4845-8f52-8683d7acfd4e",
   "metadata": {},
   "outputs": [],
   "source": [
    "data['GENDER'] = data['GENDER'].fillna('F')"
   ]
  },
  {
   "cell_type": "code",
   "execution_count": 26,
   "id": "9677e8dd-39cd-4956-95ad-6b0de83983f4",
   "metadata": {},
   "outputs": [],
   "source": [
    "for i in range(0, len(data)):\n",
    "    if data['GENDER'][i] not in ['F', 'M']:\n",
    "        data['GENDER'][i] = 'other'"
   ]
  },
  {
   "cell_type": "code",
   "execution_count": 27,
   "id": "a23d967e-b8b1-447a-9d76-edb2b6b84f78",
   "metadata": {},
   "outputs": [
    {
     "name": "stdout",
     "output_type": "stream",
     "text": [
      "F        51277\n",
      "M        39094\n",
      "other     5041\n",
      "Name: GENDER, dtype: int64\n"
     ]
    }
   ],
   "source": [
    "print(data['GENDER'].value_counts())"
   ]
  },
  {
   "cell_type": "code",
   "execution_count": null,
   "id": "2cb62d5a-352f-4cac-91b4-3acce19c34b9",
   "metadata": {},
   "outputs": [],
   "source": []
  }
 ],
 "metadata": {
  "kernelspec": {
   "display_name": "Python 3",
   "language": "python",
   "name": "python3"
  },
  "language_info": {
   "codemirror_mode": {
    "name": "ipython",
    "version": 3
   },
   "file_extension": ".py",
   "mimetype": "text/x-python",
   "name": "python",
   "nbconvert_exporter": "python",
   "pygments_lexer": "ipython3",
   "version": "3.9.6"
  }
 },
 "nbformat": 4,
 "nbformat_minor": 5
}
