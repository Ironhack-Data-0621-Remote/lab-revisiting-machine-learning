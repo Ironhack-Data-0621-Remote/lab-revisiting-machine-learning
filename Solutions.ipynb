{
 "cells": [
  {
   "cell_type": "markdown",
   "id": "bf32ae3b",
   "metadata": {},
   "source": [
    "# Lab | Revisiting Machine Learning Case Study"
   ]
  },
  {
   "cell_type": "markdown",
   "id": "73df37d0",
   "metadata": {},
   "source": [
    "In this lab, you will use learningSet.csv file which you already have cloned in today's activities."
   ]
  },
  {
   "cell_type": "code",
   "execution_count": 1,
   "id": "6fb742a5",
   "metadata": {},
   "outputs": [],
   "source": [
    "import pandas as pd\n",
    "import warnings\n",
    "warnings.filterwarnings('ignore')"
   ]
  },
  {
   "cell_type": "code",
   "execution_count": 2,
   "id": "dbe69e8b",
   "metadata": {},
   "outputs": [],
   "source": [
    "data = pd.read_csv(\"/Users/silvia/Downloads/learningSet.csv\")"
   ]
  },
  {
   "cell_type": "markdown",
   "id": "5bbb5252",
   "metadata": {},
   "source": [
    "### 1. Check for null values in all the columns"
   ]
  },
  {
   "cell_type": "code",
   "execution_count": 3,
   "id": "b5cacfc2",
   "metadata": {},
   "outputs": [],
   "source": [
    "def check_for_nulls(df):\n",
    "    nulls_total = []\n",
    "    columns = []\n",
    "    for c in df.columns:\n",
    "        nulls = (int(df[c].isnull().sum()) / int(len(df[c])))*100\n",
    "        if nulls > 0:\n",
    "            nulls_total.append(nulls)\n",
    "            columns.append(c)      \n",
    "    nulls_dict = dict(zip(columns,nulls_total))\n",
    "    nulls_df = pd.DataFrame([nulls_dict]).transpose()\n",
    "    nulls_df.columns = ['n_nulls']\n",
    "    nulls_df = nulls_df.sort_values(by = ['n_nulls'], ascending = [False])\n",
    "    return nulls_df"
   ]
  },
  {
   "cell_type": "code",
   "execution_count": 4,
   "id": "15d904fb",
   "metadata": {},
   "outputs": [
    {
     "data": {
      "text/html": [
       "<div>\n",
       "<style scoped>\n",
       "    .dataframe tbody tr th:only-of-type {\n",
       "        vertical-align: middle;\n",
       "    }\n",
       "\n",
       "    .dataframe tbody tr th {\n",
       "        vertical-align: top;\n",
       "    }\n",
       "\n",
       "    .dataframe thead th {\n",
       "        text-align: right;\n",
       "    }\n",
       "</style>\n",
       "<table border=\"1\" class=\"dataframe\">\n",
       "  <thead>\n",
       "    <tr style=\"text-align: right;\">\n",
       "      <th></th>\n",
       "      <th>n_nulls</th>\n",
       "    </tr>\n",
       "  </thead>\n",
       "  <tbody>\n",
       "    <tr>\n",
       "      <th>RDATE_5</th>\n",
       "      <td>99.990567</td>\n",
       "    </tr>\n",
       "    <tr>\n",
       "      <th>RAMNT_5</th>\n",
       "      <td>99.990567</td>\n",
       "    </tr>\n",
       "    <tr>\n",
       "      <th>RAMNT_3</th>\n",
       "      <td>99.746363</td>\n",
       "    </tr>\n",
       "    <tr>\n",
       "      <th>RDATE_3</th>\n",
       "      <td>99.746363</td>\n",
       "    </tr>\n",
       "    <tr>\n",
       "      <th>RDATE_4</th>\n",
       "      <td>99.705488</td>\n",
       "    </tr>\n",
       "    <tr>\n",
       "      <th>...</th>\n",
       "      <td>...</td>\n",
       "    </tr>\n",
       "    <tr>\n",
       "      <th>MSA</th>\n",
       "      <td>0.138347</td>\n",
       "    </tr>\n",
       "    <tr>\n",
       "      <th>ADI</th>\n",
       "      <td>0.138347</td>\n",
       "    </tr>\n",
       "    <tr>\n",
       "      <th>DMA</th>\n",
       "      <td>0.138347</td>\n",
       "    </tr>\n",
       "    <tr>\n",
       "      <th>CLUSTER2</th>\n",
       "      <td>0.138347</td>\n",
       "    </tr>\n",
       "    <tr>\n",
       "      <th>GEOCODE2</th>\n",
       "      <td>0.138347</td>\n",
       "    </tr>\n",
       "  </tbody>\n",
       "</table>\n",
       "<p>92 rows × 1 columns</p>\n",
       "</div>"
      ],
      "text/plain": [
       "            n_nulls\n",
       "RDATE_5   99.990567\n",
       "RAMNT_5   99.990567\n",
       "RAMNT_3   99.746363\n",
       "RDATE_3   99.746363\n",
       "RDATE_4   99.705488\n",
       "...             ...\n",
       "MSA        0.138347\n",
       "ADI        0.138347\n",
       "DMA        0.138347\n",
       "CLUSTER2   0.138347\n",
       "GEOCODE2   0.138347\n",
       "\n",
       "[92 rows x 1 columns]"
      ]
     },
     "execution_count": 4,
     "metadata": {},
     "output_type": "execute_result"
    }
   ],
   "source": [
    "check_for_nulls(data)"
   ]
  },
  {
   "cell_type": "markdown",
   "id": "6febccdc",
   "metadata": {},
   "source": [
    "### 2. Exclude the following variables by looking at the definitions. Create a new empty list called drop_list. We will append this list and then drop all the columns in this list later:\n",
    "\n",
    "- `OSOURCE` - symbol definitions not provided, too many categories\n",
    "- `ZIP CODE` - we are including state already\n"
   ]
  },
  {
   "cell_type": "code",
   "execution_count": 7,
   "id": "3a07b75a",
   "metadata": {},
   "outputs": [],
   "source": [
    "drop_list = ['OSOURCE', 'ZIP CODE']"
   ]
  },
  {
   "cell_type": "markdown",
   "id": "6a2470e4",
   "metadata": {},
   "source": [
    "### 3. Identify columns that over 85% missing values"
   ]
  },
  {
   "cell_type": "code",
   "execution_count": 8,
   "id": "2b6f01b6",
   "metadata": {},
   "outputs": [
    {
     "data": {
      "text/html": [
       "<div>\n",
       "<style scoped>\n",
       "    .dataframe tbody tr th:only-of-type {\n",
       "        vertical-align: middle;\n",
       "    }\n",
       "\n",
       "    .dataframe tbody tr th {\n",
       "        vertical-align: top;\n",
       "    }\n",
       "\n",
       "    .dataframe thead th {\n",
       "        text-align: right;\n",
       "    }\n",
       "</style>\n",
       "<table border=\"1\" class=\"dataframe\">\n",
       "  <thead>\n",
       "    <tr style=\"text-align: right;\">\n",
       "      <th></th>\n",
       "      <th>n_nulls</th>\n",
       "    </tr>\n",
       "  </thead>\n",
       "  <tbody>\n",
       "    <tr>\n",
       "      <th>RDATE_5</th>\n",
       "      <td>99.990567</td>\n",
       "    </tr>\n",
       "    <tr>\n",
       "      <th>RAMNT_5</th>\n",
       "      <td>99.990567</td>\n",
       "    </tr>\n",
       "    <tr>\n",
       "      <th>RAMNT_3</th>\n",
       "      <td>99.746363</td>\n",
       "    </tr>\n",
       "    <tr>\n",
       "      <th>RDATE_3</th>\n",
       "      <td>99.746363</td>\n",
       "    </tr>\n",
       "    <tr>\n",
       "      <th>RDATE_4</th>\n",
       "      <td>99.705488</td>\n",
       "    </tr>\n",
       "    <tr>\n",
       "      <th>RAMNT_4</th>\n",
       "      <td>99.705488</td>\n",
       "    </tr>\n",
       "    <tr>\n",
       "      <th>RDATE_6</th>\n",
       "      <td>99.186685</td>\n",
       "    </tr>\n",
       "    <tr>\n",
       "      <th>RAMNT_6</th>\n",
       "      <td>99.186685</td>\n",
       "    </tr>\n",
       "    <tr>\n",
       "      <th>RDATE_15</th>\n",
       "      <td>92.388798</td>\n",
       "    </tr>\n",
       "    <tr>\n",
       "      <th>RAMNT_15</th>\n",
       "      <td>92.388798</td>\n",
       "    </tr>\n",
       "    <tr>\n",
       "      <th>RAMNT_23</th>\n",
       "      <td>91.763091</td>\n",
       "    </tr>\n",
       "    <tr>\n",
       "      <th>RDATE_23</th>\n",
       "      <td>91.763091</td>\n",
       "    </tr>\n",
       "    <tr>\n",
       "      <th>RDATE_20</th>\n",
       "      <td>91.732696</td>\n",
       "    </tr>\n",
       "    <tr>\n",
       "      <th>RAMNT_20</th>\n",
       "      <td>91.732696</td>\n",
       "    </tr>\n",
       "    <tr>\n",
       "      <th>RAMNT_7</th>\n",
       "      <td>90.677273</td>\n",
       "    </tr>\n",
       "    <tr>\n",
       "      <th>RDATE_7</th>\n",
       "      <td>90.677273</td>\n",
       "    </tr>\n",
       "    <tr>\n",
       "      <th>RDATE_17</th>\n",
       "      <td>90.146942</td>\n",
       "    </tr>\n",
       "    <tr>\n",
       "      <th>RAMNT_17</th>\n",
       "      <td>90.146942</td>\n",
       "    </tr>\n",
       "    <tr>\n",
       "      <th>RDATE_21</th>\n",
       "      <td>90.029556</td>\n",
       "    </tr>\n",
       "    <tr>\n",
       "      <th>RAMNT_21</th>\n",
       "      <td>90.029556</td>\n",
       "    </tr>\n",
       "    <tr>\n",
       "      <th>RDATE_10</th>\n",
       "      <td>89.035970</td>\n",
       "    </tr>\n",
       "    <tr>\n",
       "      <th>RAMNT_10</th>\n",
       "      <td>89.035970</td>\n",
       "    </tr>\n",
       "    <tr>\n",
       "      <th>RDATE_13</th>\n",
       "      <td>87.160944</td>\n",
       "    </tr>\n",
       "    <tr>\n",
       "      <th>RAMNT_13</th>\n",
       "      <td>87.160944</td>\n",
       "    </tr>\n",
       "    <tr>\n",
       "      <th>NUMCHLD</th>\n",
       "      <td>87.018404</td>\n",
       "    </tr>\n",
       "  </tbody>\n",
       "</table>\n",
       "</div>"
      ],
      "text/plain": [
       "            n_nulls\n",
       "RDATE_5   99.990567\n",
       "RAMNT_5   99.990567\n",
       "RAMNT_3   99.746363\n",
       "RDATE_3   99.746363\n",
       "RDATE_4   99.705488\n",
       "RAMNT_4   99.705488\n",
       "RDATE_6   99.186685\n",
       "RAMNT_6   99.186685\n",
       "RDATE_15  92.388798\n",
       "RAMNT_15  92.388798\n",
       "RAMNT_23  91.763091\n",
       "RDATE_23  91.763091\n",
       "RDATE_20  91.732696\n",
       "RAMNT_20  91.732696\n",
       "RAMNT_7   90.677273\n",
       "RDATE_7   90.677273\n",
       "RDATE_17  90.146942\n",
       "RAMNT_17  90.146942\n",
       "RDATE_21  90.029556\n",
       "RAMNT_21  90.029556\n",
       "RDATE_10  89.035970\n",
       "RAMNT_10  89.035970\n",
       "RDATE_13  87.160944\n",
       "RAMNT_13  87.160944\n",
       "NUMCHLD   87.018404"
      ]
     },
     "execution_count": 8,
     "metadata": {},
     "output_type": "execute_result"
    }
   ],
   "source": [
    "nulls = check_for_nulls(data)\n",
    "More_85 = nulls[nulls['n_nulls']>85]\n",
    "More_85"
   ]
  },
  {
   "cell_type": "markdown",
   "id": "70865946",
   "metadata": {},
   "source": [
    "### 4. Remove those columns from the dataframe"
   ]
  },
  {
   "cell_type": "code",
   "execution_count": 10,
   "id": "ca6c4d91",
   "metadata": {},
   "outputs": [],
   "source": [
    "drop_columns = []\n",
    "for c in More_85.index:\n",
    "    drop_columns.append(c)\n",
    "data = data.drop(drop_columns, axis=1)"
   ]
  },
  {
   "cell_type": "markdown",
   "id": "7bbcf161",
   "metadata": {},
   "source": [
    "### 5. Reduce the number of categories in the column GENDER. The column should only have either \"M\" for males, \"F\" for females, and \"other\" for all the rest\n",
    "\n",
    "Note that there are a few null values in the column. We will first replace those null values using the code below:\n",
    "\n",
    "```python\n",
    "print(categorical['GENDER'].value_counts())\n",
    "categorical['GENDER'] = categorical['GENDER'].fillna('F')\n",
    "```"
   ]
  },
  {
   "cell_type": "code",
   "execution_count": 11,
   "id": "b583feaa",
   "metadata": {},
   "outputs": [
    {
     "name": "stdout",
     "output_type": "stream",
     "text": [
      "F    51277\n",
      "M    39094\n",
      "      2957\n",
      "U     1715\n",
      "J      365\n",
      "A        2\n",
      "C        2\n",
      "Name: GENDER, dtype: int64\n"
     ]
    }
   ],
   "source": [
    "print(data['GENDER'].value_counts())\n",
    "data['GENDER'] = data['GENDER'].fillna('F')"
   ]
  },
  {
   "cell_type": "code",
   "execution_count": 12,
   "id": "c1c1ef7f",
   "metadata": {},
   "outputs": [],
   "source": [
    "data['GENDER'] = data['GENDER'].replace([' ', 'C', 'U', 'J', 'A'], \"other\")"
   ]
  },
  {
   "cell_type": "code",
   "execution_count": 13,
   "id": "35127b49",
   "metadata": {},
   "outputs": [
    {
     "data": {
      "text/plain": [
       "array(['F', 'M', 'other'], dtype=object)"
      ]
     },
     "execution_count": 13,
     "metadata": {},
     "output_type": "execute_result"
    }
   ],
   "source": [
    "data['GENDER'].unique()"
   ]
  }
 ],
 "metadata": {
  "kernelspec": {
   "display_name": "Python 3",
   "language": "python",
   "name": "python3"
  },
  "language_info": {
   "codemirror_mode": {
    "name": "ipython",
    "version": 3
   },
   "file_extension": ".py",
   "mimetype": "text/x-python",
   "name": "python",
   "nbconvert_exporter": "python",
   "pygments_lexer": "ipython3",
   "version": "3.8.8"
  }
 },
 "nbformat": 4,
 "nbformat_minor": 5
}
